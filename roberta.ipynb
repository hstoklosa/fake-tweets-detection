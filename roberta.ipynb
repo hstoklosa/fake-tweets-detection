{
  "nbformat": 4,
  "nbformat_minor": 0,
  "metadata": {
    "colab": {
      "provenance": [],
      "machine_shape": "hm",
      "gpuType": "T4"
    },
    "kernelspec": {
      "name": "python3",
      "display_name": "Python 3"
    },
    "language_info": {
      "name": "python"
    },
    "accelerator": "GPU"
  },
  "cells": [
    {
      "cell_type": "code",
      "execution_count": 30,
      "metadata": {
        "id": "QM3HGPpMoZZJ",
        "colab": {
          "base_uri": "https://localhost:8080/"
        },
        "outputId": "4a5b8f87-d67e-4203-9ae4-a1124452f589"
      },
      "outputs": [
        {
          "output_type": "stream",
          "name": "stdout",
          "text": [
            "Mounted at /content/drive\n"
          ]
        }
      ],
      "source": [
        "from google.colab import drive\n",
        "drive.mount('/content/drive', force_remount=True)"
      ]
    },
    {
      "cell_type": "code",
      "source": [
        "import sys\n",
        "\n",
        "ABSOLUTE_PATH = \"/content/drive/My Drive/deepfake_tweets\"\n",
        "PREPROCESSED_DATA_DIR = ABSOLUTE_PATH + \"/data/preprocessed/\"\n",
        "EXPORT_MODEL_DIR = ABSOLUTE_PATH + \"/models/roberta-finetuned\"\n",
        "\n",
        "sys.path.insert(0, ABSOLUTE_PATH)"
      ],
      "metadata": {
        "id": "qO4xSWQwUDNx"
      },
      "execution_count": 31,
      "outputs": []
    },
    {
      "cell_type": "markdown",
      "source": [
        "# Fine-tuning RoBERTa model"
      ],
      "metadata": {
        "id": "JH0XuPPAWTSe"
      }
    },
    {
      "cell_type": "code",
      "source": [
        "import os\n",
        "\n",
        "import random\n",
        "import numpy as np\n",
        "import pandas as pd\n",
        "\n",
        "import torch\n",
        "import torch.nn as nn\n",
        "from torch.optim import AdamW, Adam\n",
        "from torch.utils.data import DataLoader\n",
        "from transformers import (\n",
        "    AutoTokenizer,\n",
        "    AutoModelForSequenceClassification,\n",
        "    XLMRobertaForSequenceClassification,\n",
        "    TrainingArguments,\n",
        "    Trainer,\n",
        "    EarlyStoppingCallback,\n",
        ")\n",
        "from sklearn.metrics import classification_report\n",
        "\n",
        "from utils import TweetDataset, compute_metrics, plot_confusion_matrix"
      ],
      "metadata": {
        "id": "at8lAV9PWVw_"
      },
      "execution_count": 32,
      "outputs": []
    },
    {
      "cell_type": "markdown",
      "source": [
        "## Loading the model and tokenizer"
      ],
      "metadata": {
        "id": "7uIQtl2pWWgY"
      }
    },
    {
      "cell_type": "code",
      "source": [
        "MODEL_NAME = \"xlm-roberta-base\"\n",
        "NUM_LABELS = 2\n",
        "BATCH_SIZE = 8\n",
        "NUM_EPOCHS = 10\n",
        "WEIGHT_DECAY = 0.01\n",
        "LEARNING_RATE = 2e-6\n",
        "EARLY_STOPPING = 3\n",
        "\n",
        "tokenizer = AutoTokenizer.from_pretrained(MODEL_NAME)\n",
        "model = AutoModelForSequenceClassification.from_pretrained(\n",
        "    MODEL_NAME,\n",
        "    num_labels=NUM_LABELS\n",
        ")"
      ],
      "metadata": {
        "colab": {
          "base_uri": "https://localhost:8080/"
        },
        "id": "xsKZxmvpWWGq",
        "outputId": "6abdcf38-66c0-4c0f-d6d3-f6b5fb00d4d4"
      },
      "execution_count": 33,
      "outputs": [
        {
          "output_type": "stream",
          "name": "stderr",
          "text": [
            "Some weights of XLMRobertaForSequenceClassification were not initialized from the model checkpoint at xlm-roberta-base and are newly initialized: ['classifier.dense.bias', 'classifier.dense.weight', 'classifier.out_proj.bias', 'classifier.out_proj.weight']\n",
            "You should probably TRAIN this model on a down-stream task to be able to use it for predictions and inference.\n"
          ]
        }
      ]
    },
    {
      "cell_type": "code",
      "source": [
        "device = torch.device(\"cuda\" if torch.cuda.is_available() else \"cpu\")\n",
        "model.to(device)"
      ],
      "metadata": {
        "colab": {
          "base_uri": "https://localhost:8080/"
        },
        "id": "91KhpzT6YqEJ",
        "outputId": "68af9616-6c51-437c-e7e9-001ef4afebf0"
      },
      "execution_count": 34,
      "outputs": [
        {
          "output_type": "execute_result",
          "data": {
            "text/plain": [
              "XLMRobertaForSequenceClassification(\n",
              "  (roberta): XLMRobertaModel(\n",
              "    (embeddings): XLMRobertaEmbeddings(\n",
              "      (word_embeddings): Embedding(250002, 768, padding_idx=1)\n",
              "      (position_embeddings): Embedding(514, 768, padding_idx=1)\n",
              "      (token_type_embeddings): Embedding(1, 768)\n",
              "      (LayerNorm): LayerNorm((768,), eps=1e-05, elementwise_affine=True)\n",
              "      (dropout): Dropout(p=0.1, inplace=False)\n",
              "    )\n",
              "    (encoder): XLMRobertaEncoder(\n",
              "      (layer): ModuleList(\n",
              "        (0-11): 12 x XLMRobertaLayer(\n",
              "          (attention): XLMRobertaAttention(\n",
              "            (self): XLMRobertaSdpaSelfAttention(\n",
              "              (query): Linear(in_features=768, out_features=768, bias=True)\n",
              "              (key): Linear(in_features=768, out_features=768, bias=True)\n",
              "              (value): Linear(in_features=768, out_features=768, bias=True)\n",
              "              (dropout): Dropout(p=0.1, inplace=False)\n",
              "            )\n",
              "            (output): XLMRobertaSelfOutput(\n",
              "              (dense): Linear(in_features=768, out_features=768, bias=True)\n",
              "              (LayerNorm): LayerNorm((768,), eps=1e-05, elementwise_affine=True)\n",
              "              (dropout): Dropout(p=0.1, inplace=False)\n",
              "            )\n",
              "          )\n",
              "          (intermediate): XLMRobertaIntermediate(\n",
              "            (dense): Linear(in_features=768, out_features=3072, bias=True)\n",
              "            (intermediate_act_fn): GELUActivation()\n",
              "          )\n",
              "          (output): XLMRobertaOutput(\n",
              "            (dense): Linear(in_features=3072, out_features=768, bias=True)\n",
              "            (LayerNorm): LayerNorm((768,), eps=1e-05, elementwise_affine=True)\n",
              "            (dropout): Dropout(p=0.1, inplace=False)\n",
              "          )\n",
              "        )\n",
              "      )\n",
              "    )\n",
              "  )\n",
              "  (classifier): XLMRobertaClassificationHead(\n",
              "    (dense): Linear(in_features=768, out_features=768, bias=True)\n",
              "    (dropout): Dropout(p=0.1, inplace=False)\n",
              "    (out_proj): Linear(in_features=768, out_features=2, bias=True)\n",
              "  )\n",
              ")"
            ]
          },
          "metadata": {},
          "execution_count": 34
        }
      ]
    },
    {
      "cell_type": "markdown",
      "source": [
        "## Loading the preprocessed data"
      ],
      "metadata": {
        "id": "_JPbSxwnYtoC"
      }
    },
    {
      "cell_type": "code",
      "source": [
        "# Import splits of the dataset (train, val, test)\n",
        "train_df, val_df, test_df = (\n",
        "    pd.read_csv(os.path.join(PREPROCESSED_DATA_DIR, \"tweepfake_train.csv\")),\n",
        "    pd.read_csv(os.path.join(PREPROCESSED_DATA_DIR, \"tweepfake_val.csv\")),\n",
        "    pd.read_csv(os.path.join(PREPROCESSED_DATA_DIR, \"tweepfake_test.csv\"))\n",
        ")\n",
        "\n",
        "# Concatenate split sets into a single DataFrame\n",
        "df = pd.concat([train_df, val_df, test_df], ignore_index=True)\n",
        "df.head()"
      ],
      "metadata": {
        "colab": {
          "base_uri": "https://localhost:8080/",
          "height": 204
        },
        "id": "Cx7Qv4zcYxG8",
        "outputId": "3a888940-43d5-4eb2-fbc6-2b98d2b90bd7"
      },
      "execution_count": 35,
      "outputs": [
        {
          "output_type": "execute_result",
          "data": {
            "text/plain": [
              "      screen_name                                               text  \\\n",
              "0      imranyebot                             YEA now that note GOOD   \n",
              "1          zawvrk    Listen to This Charming Man by The Smiths <URL>   \n",
              "2        zawarbot  wish i can i would be seeing other hoes on the...   \n",
              "3  ahadsheriffbot  The decade in the significantly easier schedul...   \n",
              "4   kevinhookebot  \"Theim class=\\\"alignnone size-full wp-image-60...   \n",
              "\n",
              "  account.type class_type  \n",
              "0          bot     others  \n",
              "1        human      human  \n",
              "2          bot     others  \n",
              "3          bot     others  \n",
              "4          bot        rnn  "
            ],
            "text/html": [
              "\n",
              "  <div id=\"df-5dacd84f-5e67-4f10-92cf-7b3694a77fbd\" class=\"colab-df-container\">\n",
              "    <div>\n",
              "<style scoped>\n",
              "    .dataframe tbody tr th:only-of-type {\n",
              "        vertical-align: middle;\n",
              "    }\n",
              "\n",
              "    .dataframe tbody tr th {\n",
              "        vertical-align: top;\n",
              "    }\n",
              "\n",
              "    .dataframe thead th {\n",
              "        text-align: right;\n",
              "    }\n",
              "</style>\n",
              "<table border=\"1\" class=\"dataframe\">\n",
              "  <thead>\n",
              "    <tr style=\"text-align: right;\">\n",
              "      <th></th>\n",
              "      <th>screen_name</th>\n",
              "      <th>text</th>\n",
              "      <th>account.type</th>\n",
              "      <th>class_type</th>\n",
              "    </tr>\n",
              "  </thead>\n",
              "  <tbody>\n",
              "    <tr>\n",
              "      <th>0</th>\n",
              "      <td>imranyebot</td>\n",
              "      <td>YEA now that note GOOD</td>\n",
              "      <td>bot</td>\n",
              "      <td>others</td>\n",
              "    </tr>\n",
              "    <tr>\n",
              "      <th>1</th>\n",
              "      <td>zawvrk</td>\n",
              "      <td>Listen to This Charming Man by The Smiths &lt;URL&gt;</td>\n",
              "      <td>human</td>\n",
              "      <td>human</td>\n",
              "    </tr>\n",
              "    <tr>\n",
              "      <th>2</th>\n",
              "      <td>zawarbot</td>\n",
              "      <td>wish i can i would be seeing other hoes on the...</td>\n",
              "      <td>bot</td>\n",
              "      <td>others</td>\n",
              "    </tr>\n",
              "    <tr>\n",
              "      <th>3</th>\n",
              "      <td>ahadsheriffbot</td>\n",
              "      <td>The decade in the significantly easier schedul...</td>\n",
              "      <td>bot</td>\n",
              "      <td>others</td>\n",
              "    </tr>\n",
              "    <tr>\n",
              "      <th>4</th>\n",
              "      <td>kevinhookebot</td>\n",
              "      <td>\"Theim class=\\\"alignnone size-full wp-image-60...</td>\n",
              "      <td>bot</td>\n",
              "      <td>rnn</td>\n",
              "    </tr>\n",
              "  </tbody>\n",
              "</table>\n",
              "</div>\n",
              "    <div class=\"colab-df-buttons\">\n",
              "\n",
              "  <div class=\"colab-df-container\">\n",
              "    <button class=\"colab-df-convert\" onclick=\"convertToInteractive('df-5dacd84f-5e67-4f10-92cf-7b3694a77fbd')\"\n",
              "            title=\"Convert this dataframe to an interactive table.\"\n",
              "            style=\"display:none;\">\n",
              "\n",
              "  <svg xmlns=\"http://www.w3.org/2000/svg\" height=\"24px\" viewBox=\"0 -960 960 960\">\n",
              "    <path d=\"M120-120v-720h720v720H120Zm60-500h600v-160H180v160Zm220 220h160v-160H400v160Zm0 220h160v-160H400v160ZM180-400h160v-160H180v160Zm440 0h160v-160H620v160ZM180-180h160v-160H180v160Zm440 0h160v-160H620v160Z\"/>\n",
              "  </svg>\n",
              "    </button>\n",
              "\n",
              "  <style>\n",
              "    .colab-df-container {\n",
              "      display:flex;\n",
              "      gap: 12px;\n",
              "    }\n",
              "\n",
              "    .colab-df-convert {\n",
              "      background-color: #E8F0FE;\n",
              "      border: none;\n",
              "      border-radius: 50%;\n",
              "      cursor: pointer;\n",
              "      display: none;\n",
              "      fill: #1967D2;\n",
              "      height: 32px;\n",
              "      padding: 0 0 0 0;\n",
              "      width: 32px;\n",
              "    }\n",
              "\n",
              "    .colab-df-convert:hover {\n",
              "      background-color: #E2EBFA;\n",
              "      box-shadow: 0px 1px 2px rgba(60, 64, 67, 0.3), 0px 1px 3px 1px rgba(60, 64, 67, 0.15);\n",
              "      fill: #174EA6;\n",
              "    }\n",
              "\n",
              "    .colab-df-buttons div {\n",
              "      margin-bottom: 4px;\n",
              "    }\n",
              "\n",
              "    [theme=dark] .colab-df-convert {\n",
              "      background-color: #3B4455;\n",
              "      fill: #D2E3FC;\n",
              "    }\n",
              "\n",
              "    [theme=dark] .colab-df-convert:hover {\n",
              "      background-color: #434B5C;\n",
              "      box-shadow: 0px 1px 3px 1px rgba(0, 0, 0, 0.15);\n",
              "      filter: drop-shadow(0px 1px 2px rgba(0, 0, 0, 0.3));\n",
              "      fill: #FFFFFF;\n",
              "    }\n",
              "  </style>\n",
              "\n",
              "    <script>\n",
              "      const buttonEl =\n",
              "        document.querySelector('#df-5dacd84f-5e67-4f10-92cf-7b3694a77fbd button.colab-df-convert');\n",
              "      buttonEl.style.display =\n",
              "        google.colab.kernel.accessAllowed ? 'block' : 'none';\n",
              "\n",
              "      async function convertToInteractive(key) {\n",
              "        const element = document.querySelector('#df-5dacd84f-5e67-4f10-92cf-7b3694a77fbd');\n",
              "        const dataTable =\n",
              "          await google.colab.kernel.invokeFunction('convertToInteractive',\n",
              "                                                    [key], {});\n",
              "        if (!dataTable) return;\n",
              "\n",
              "        const docLinkHtml = 'Like what you see? Visit the ' +\n",
              "          '<a target=\"_blank\" href=https://colab.research.google.com/notebooks/data_table.ipynb>data table notebook</a>'\n",
              "          + ' to learn more about interactive tables.';\n",
              "        element.innerHTML = '';\n",
              "        dataTable['output_type'] = 'display_data';\n",
              "        await google.colab.output.renderOutput(dataTable, element);\n",
              "        const docLink = document.createElement('div');\n",
              "        docLink.innerHTML = docLinkHtml;\n",
              "        element.appendChild(docLink);\n",
              "      }\n",
              "    </script>\n",
              "  </div>\n",
              "\n",
              "\n",
              "    <div id=\"df-2acbbb32-0b29-4c92-98b6-409877c3735c\">\n",
              "      <button class=\"colab-df-quickchart\" onclick=\"quickchart('df-2acbbb32-0b29-4c92-98b6-409877c3735c')\"\n",
              "                title=\"Suggest charts\"\n",
              "                style=\"display:none;\">\n",
              "\n",
              "<svg xmlns=\"http://www.w3.org/2000/svg\" height=\"24px\"viewBox=\"0 0 24 24\"\n",
              "     width=\"24px\">\n",
              "    <g>\n",
              "        <path d=\"M19 3H5c-1.1 0-2 .9-2 2v14c0 1.1.9 2 2 2h14c1.1 0 2-.9 2-2V5c0-1.1-.9-2-2-2zM9 17H7v-7h2v7zm4 0h-2V7h2v10zm4 0h-2v-4h2v4z\"/>\n",
              "    </g>\n",
              "</svg>\n",
              "      </button>\n",
              "\n",
              "<style>\n",
              "  .colab-df-quickchart {\n",
              "      --bg-color: #E8F0FE;\n",
              "      --fill-color: #1967D2;\n",
              "      --hover-bg-color: #E2EBFA;\n",
              "      --hover-fill-color: #174EA6;\n",
              "      --disabled-fill-color: #AAA;\n",
              "      --disabled-bg-color: #DDD;\n",
              "  }\n",
              "\n",
              "  [theme=dark] .colab-df-quickchart {\n",
              "      --bg-color: #3B4455;\n",
              "      --fill-color: #D2E3FC;\n",
              "      --hover-bg-color: #434B5C;\n",
              "      --hover-fill-color: #FFFFFF;\n",
              "      --disabled-bg-color: #3B4455;\n",
              "      --disabled-fill-color: #666;\n",
              "  }\n",
              "\n",
              "  .colab-df-quickchart {\n",
              "    background-color: var(--bg-color);\n",
              "    border: none;\n",
              "    border-radius: 50%;\n",
              "    cursor: pointer;\n",
              "    display: none;\n",
              "    fill: var(--fill-color);\n",
              "    height: 32px;\n",
              "    padding: 0;\n",
              "    width: 32px;\n",
              "  }\n",
              "\n",
              "  .colab-df-quickchart:hover {\n",
              "    background-color: var(--hover-bg-color);\n",
              "    box-shadow: 0 1px 2px rgba(60, 64, 67, 0.3), 0 1px 3px 1px rgba(60, 64, 67, 0.15);\n",
              "    fill: var(--button-hover-fill-color);\n",
              "  }\n",
              "\n",
              "  .colab-df-quickchart-complete:disabled,\n",
              "  .colab-df-quickchart-complete:disabled:hover {\n",
              "    background-color: var(--disabled-bg-color);\n",
              "    fill: var(--disabled-fill-color);\n",
              "    box-shadow: none;\n",
              "  }\n",
              "\n",
              "  .colab-df-spinner {\n",
              "    border: 2px solid var(--fill-color);\n",
              "    border-color: transparent;\n",
              "    border-bottom-color: var(--fill-color);\n",
              "    animation:\n",
              "      spin 1s steps(1) infinite;\n",
              "  }\n",
              "\n",
              "  @keyframes spin {\n",
              "    0% {\n",
              "      border-color: transparent;\n",
              "      border-bottom-color: var(--fill-color);\n",
              "      border-left-color: var(--fill-color);\n",
              "    }\n",
              "    20% {\n",
              "      border-color: transparent;\n",
              "      border-left-color: var(--fill-color);\n",
              "      border-top-color: var(--fill-color);\n",
              "    }\n",
              "    30% {\n",
              "      border-color: transparent;\n",
              "      border-left-color: var(--fill-color);\n",
              "      border-top-color: var(--fill-color);\n",
              "      border-right-color: var(--fill-color);\n",
              "    }\n",
              "    40% {\n",
              "      border-color: transparent;\n",
              "      border-right-color: var(--fill-color);\n",
              "      border-top-color: var(--fill-color);\n",
              "    }\n",
              "    60% {\n",
              "      border-color: transparent;\n",
              "      border-right-color: var(--fill-color);\n",
              "    }\n",
              "    80% {\n",
              "      border-color: transparent;\n",
              "      border-right-color: var(--fill-color);\n",
              "      border-bottom-color: var(--fill-color);\n",
              "    }\n",
              "    90% {\n",
              "      border-color: transparent;\n",
              "      border-bottom-color: var(--fill-color);\n",
              "    }\n",
              "  }\n",
              "</style>\n",
              "\n",
              "      <script>\n",
              "        async function quickchart(key) {\n",
              "          const quickchartButtonEl =\n",
              "            document.querySelector('#' + key + ' button');\n",
              "          quickchartButtonEl.disabled = true;  // To prevent multiple clicks.\n",
              "          quickchartButtonEl.classList.add('colab-df-spinner');\n",
              "          try {\n",
              "            const charts = await google.colab.kernel.invokeFunction(\n",
              "                'suggestCharts', [key], {});\n",
              "          } catch (error) {\n",
              "            console.error('Error during call to suggestCharts:', error);\n",
              "          }\n",
              "          quickchartButtonEl.classList.remove('colab-df-spinner');\n",
              "          quickchartButtonEl.classList.add('colab-df-quickchart-complete');\n",
              "        }\n",
              "        (() => {\n",
              "          let quickchartButtonEl =\n",
              "            document.querySelector('#df-2acbbb32-0b29-4c92-98b6-409877c3735c button');\n",
              "          quickchartButtonEl.style.display =\n",
              "            google.colab.kernel.accessAllowed ? 'block' : 'none';\n",
              "        })();\n",
              "      </script>\n",
              "    </div>\n",
              "\n",
              "    </div>\n",
              "  </div>\n"
            ],
            "application/vnd.google.colaboratory.intrinsic+json": {
              "type": "dataframe",
              "variable_name": "df",
              "summary": "{\n  \"name\": \"df\",\n  \"rows\": 25572,\n  \"fields\": [\n    {\n      \"column\": \"screen_name\",\n      \"properties\": {\n        \"dtype\": \"category\",\n        \"num_unique_values\": 40,\n        \"samples\": [\n          \"imranye\",\n          \"theJadenTrudeau\",\n          \"VBoterin\"\n        ],\n        \"semantic_type\": \"\",\n        \"description\": \"\"\n      }\n    },\n    {\n      \"column\": \"text\",\n      \"properties\": {\n        \"dtype\": \"string\",\n        \"num_unique_values\": 25071,\n        \"samples\": [\n          \"My bot unapologetically mixes completely unrelated tech in bizarre mashups (as 'master of the project') <URL>\",\n          \"I\\u2019ve always said the Los Angeles Times is historically the best in the nation in knowing and serving its communities. <URL>\",\n          \"BJP is the close!\"\n        ],\n        \"semantic_type\": \"\",\n        \"description\": \"\"\n      }\n    },\n    {\n      \"column\": \"account.type\",\n      \"properties\": {\n        \"dtype\": \"category\",\n        \"num_unique_values\": 2,\n        \"samples\": [\n          \"human\",\n          \"bot\"\n        ],\n        \"semantic_type\": \"\",\n        \"description\": \"\"\n      }\n    },\n    {\n      \"column\": \"class_type\",\n      \"properties\": {\n        \"dtype\": \"category\",\n        \"num_unique_values\": 4,\n        \"samples\": [\n          \"human\",\n          \"gpt2\"\n        ],\n        \"semantic_type\": \"\",\n        \"description\": \"\"\n      }\n    }\n  ]\n}"
            }
          },
          "metadata": {},
          "execution_count": 35
        }
      ]
    },
    {
      "cell_type": "code",
      "source": [
        "from sklearn.model_selection import train_test_split\n",
        "\n",
        "print(\"\\nLabel distribution:\")\n",
        "print(train_df['account.type'].value_counts())\n",
        "print(val_df['account.type'].value_counts())\n",
        "print(test_df['account.type'].value_counts())\n",
        "\n",
        "_, train_df = train_test_split(\n",
        "    train_df,\n",
        "    train_size=0.95,\n",
        "    stratify=train_df['account.type'],\n",
        "    random_state=42\n",
        ")\n",
        "\n",
        "_, val_df = train_test_split(\n",
        "    val_df,\n",
        "    train_size=0.95,\n",
        "    stratify=val_df['account.type'],\n",
        "    random_state=42\n",
        ")\n",
        "\n",
        "_, test_df = train_test_split(\n",
        "    test_df,\n",
        "    train_size=0.95,\n",
        "    stratify=test_df['account.type'],\n",
        "    random_state=42\n",
        ")\n",
        "\n",
        "print(\"\\nLabel distribution 2:\")\n",
        "print(train_df['account.type'].value_counts())\n",
        "print(val_df['account.type'].value_counts())\n",
        "print(test_df['account.type'].value_counts())"
      ],
      "metadata": {
        "colab": {
          "base_uri": "https://localhost:8080/"
        },
        "id": "qUeZqGo1LGAJ",
        "outputId": "9662a9c0-2918-4ffd-9105-c20013e5ea40"
      },
      "execution_count": 36,
      "outputs": [
        {
          "output_type": "stream",
          "name": "stdout",
          "text": [
            "\n",
            "Label distribution:\n",
            "account.type\n",
            "human    10358\n",
            "bot      10354\n",
            "Name: count, dtype: int64\n",
            "account.type\n",
            "bot      1152\n",
            "human    1150\n",
            "Name: count, dtype: int64\n",
            "account.type\n",
            "bot      1280\n",
            "human    1278\n",
            "Name: count, dtype: int64\n",
            "\n",
            "Label distribution 2:\n",
            "account.type\n",
            "human    518\n",
            "bot      518\n",
            "Name: count, dtype: int64\n",
            "account.type\n",
            "bot      58\n",
            "human    58\n",
            "Name: count, dtype: int64\n",
            "account.type\n",
            "human    64\n",
            "bot      64\n",
            "Name: count, dtype: int64\n"
          ]
        }
      ]
    },
    {
      "cell_type": "code",
      "source": [
        "text_column = 'text' # if 'text_tokens' in train_df.columns else 'text'\n",
        "\n",
        "X_train = train_df[text_column].values\n",
        "y_train = (train_df['account.type'] == 'bot').astype(int).values\n",
        "\n",
        "X_val = val_df[text_column].values\n",
        "y_val = (val_df['account.type'] == 'bot').astype(int).values\n",
        "\n",
        "X_test = test_df[text_column].values\n",
        "y_test = (test_df['account.type'] == 'bot').astype(int).values\n",
        "\n",
        "train_dataset = TweetDataset(X_train, y_train, tokenizer, 512)\n",
        "val_dataset = TweetDataset(X_val, y_val, tokenizer, 512)\n",
        "test_dataset = TweetDataset(X_test, y_test, tokenizer, 512)\n",
        "\n",
        "X_train, y_train"
      ],
      "metadata": {
        "id": "ZBalWngeZkY0",
        "colab": {
          "base_uri": "https://localhost:8080/"
        },
        "outputId": "2fa5b718-c779-496c-9e1f-6c731b503381"
      },
      "execution_count": null,
      "outputs": [
        {
          "output_type": "execute_result",
          "data": {
            "text/plain": [
              "(array([\"We'll give you more support to raise your little ones:\\n\\n<U+0001F37C> 15% increase in CCB for kids under 1\\n<U+0001F37C> Tax-free maternity &amp; parental benefits\\n<U+0001F37C> 15-week leave for adoptive parents\\n<U+0001F37C> Paid Family Leave for *every* parent with a new child\\n\\nhttps://t.co/30YDXMrZcp\",\n",
              "        'I won the lives to the people of the could about the lives of the people.',\n",
              "        'Im at war with my own shadow. every night i force myself to breathe heavily and eat my pillow like a sandwich',\n",
              "        ...,\n",
              "        'extremely getting a uti by usnig the same shirt i used to wipe my dogs mouth to wipe piss off of my dick',\n",
              "        'let’s start sending girls isn’t',\n",
              "        'dear godmother: did you see that fuckin funny tweet. Good luck with your twelfth child'],\n",
              "       dtype=object),\n",
              " array([0, 1, 1, ..., 0, 1, 1]))"
            ]
          },
          "metadata": {},
          "execution_count": 20
        }
      ]
    },
    {
      "cell_type": "code",
      "source": [
        "new_train_df = train_df[[\"screen_name\", \"text\", \"account.type\"]]\n",
        "new_val_df = val_df[[\"screen_name\", \"text\", \"account.type\"]]\n",
        "new_test_df = test_df[[\"screen_name\", \"text\", \"account.type\"]]\n",
        "\n",
        "X_train_all = new_train_df.drop(columns=['screen_name'])\n",
        "X_train_all.columns = [\"text\", \"label\"]\n",
        "\n",
        "X_val_all = new_val_df.drop(columns=['screen_name'])\n",
        "X_val_all.columns = [\"text\", \"label\"]\n",
        "\n",
        "X_test_all = new_test_df.drop(columns=['screen_name'])\n",
        "X_test_all.columns = [\"text\", \"label\"]\n",
        "\n",
        "dictLabels = {\"human\":0, \"bot\":1}\n",
        "dictLabelsReverse = {0:\"human\", 1: \"bot\"}\n",
        "\n",
        "X_train_all[\"label\"] = X_train_all[\"label\"].apply(lambda x: dictLabels[x])\n",
        "X_val_all[\"label\"] = X_val_all[\"label\"].apply(lambda x: dictLabels[x])\n",
        "X_test_all[\"label\"] = X_test_all[\"label\"].apply(lambda x: dictLabels[x])\n",
        "\n",
        "y_train_all = X_train_all[\"label\"]\n",
        "y_val_all = X_val_all[\"label\"]\n",
        "y_test_all = X_test_all[\"label\"]\n",
        "\n",
        "train_dataset = TweetDataset(X_train_all[\"text\"].tolist(), y_train_all.tolist(), tokenizer, 512)\n",
        "val_dataset = TweetDataset(X_val_all[\"text\"].tolist(), y_val_all.tolist(), tokenizer, 512)\n",
        "test_dataset = TweetDataset(X_test_all[\"text\"].tolist(), y_test_all.tolist(), tokenizer, 512)"
      ],
      "metadata": {
        "id": "ZpkrJrwOTfJ6"
      },
      "execution_count": 37,
      "outputs": []
    },
    {
      "cell_type": "markdown",
      "source": [
        "## Training the model"
      ],
      "metadata": {
        "id": "VCQsl0nMaOnA"
      }
    },
    {
      "cell_type": "code",
      "source": [
        "training_args = TrainingArguments(\n",
        "    output_dir=EXPORT_MODEL_DIR,\n",
        "    eval_strategy=\"epoch\",\n",
        "    save_strategy=\"epoch\",\n",
        "    num_train_epochs=NUM_EPOCHS,\n",
        "    per_device_train_batch_size=BATCH_SIZE,\n",
        "    per_device_eval_batch_size=BATCH_SIZE,\n",
        "    weight_decay=WEIGHT_DECAY,\n",
        "    save_total_limit=2,\n",
        "    load_best_model_at_end=True,\n",
        "    report_to=[\"tensorboard\"],\n",
        "    # metric_for_best_model=metric_name,\n",
        ")\n",
        "\n",
        "# compute_loss - to override one must create custom trainer class\n",
        "# and override the method compute_loss(self, model, inputs, return_outputs=False)\n",
        "\n",
        "optimizer = AdamW(model.parameters(), lr=LEARNING_RATE)\n",
        "early_stopping = EarlyStoppingCallback(early_stopping_patience=EARLY_STOPPING)\n",
        "trainer = Trainer(\n",
        "    model=model,\n",
        "    args=training_args,\n",
        "    train_dataset=train_dataset,\n",
        "    eval_dataset=val_dataset,\n",
        "    tokenizer=tokenizer,\n",
        "    compute_metrics=compute_metrics,\n",
        "    optimizers=(optimizer, None),\n",
        "    callbacks=[early_stopping],\n",
        ")"
      ],
      "metadata": {
        "colab": {
          "base_uri": "https://localhost:8080/"
        },
        "id": "RlJMeOXkaRq-",
        "outputId": "ccc77db7-644d-4bbc-d1c0-791de73e7ad5"
      },
      "execution_count": 38,
      "outputs": [
        {
          "output_type": "stream",
          "name": "stderr",
          "text": [
            "<ipython-input-38-77fee56eb173>:20: FutureWarning: `tokenizer` is deprecated and will be removed in version 5.0.0 for `Trainer.__init__`. Use `processing_class` instead.\n",
            "  trainer = Trainer(\n"
          ]
        }
      ]
    },
    {
      "cell_type": "code",
      "source": [
        "trainer.train()"
      ],
      "metadata": {
        "colab": {
          "base_uri": "https://localhost:8080/",
          "height": 419
        },
        "id": "PZaSv-OdaS9U",
        "outputId": "2c7a21c4-b56b-439e-edf3-4cf83fff8e0b"
      },
      "execution_count": 39,
      "outputs": [
        {
          "output_type": "display_data",
          "data": {
            "text/plain": [
              "<IPython.core.display.HTML object>"
            ],
            "text/html": [
              "\n",
              "    <div>\n",
              "      \n",
              "      <progress value='1300' max='1300' style='width:300px; height:20px; vertical-align: middle;'></progress>\n",
              "      [1300/1300 20:14, Epoch 10/10]\n",
              "    </div>\n",
              "    <table border=\"1\" class=\"dataframe\">\n",
              "  <thead>\n",
              " <tr style=\"text-align: left;\">\n",
              "      <th>Epoch</th>\n",
              "      <th>Training Loss</th>\n",
              "      <th>Validation Loss</th>\n",
              "      <th>Accuracy</th>\n",
              "    </tr>\n",
              "  </thead>\n",
              "  <tbody>\n",
              "    <tr>\n",
              "      <td>1</td>\n",
              "      <td>No log</td>\n",
              "      <td>0.690688</td>\n",
              "      <td>0.500000</td>\n",
              "    </tr>\n",
              "    <tr>\n",
              "      <td>2</td>\n",
              "      <td>No log</td>\n",
              "      <td>0.509640</td>\n",
              "      <td>0.844828</td>\n",
              "    </tr>\n",
              "    <tr>\n",
              "      <td>3</td>\n",
              "      <td>No log</td>\n",
              "      <td>0.475245</td>\n",
              "      <td>0.810345</td>\n",
              "    </tr>\n",
              "    <tr>\n",
              "      <td>4</td>\n",
              "      <td>0.598100</td>\n",
              "      <td>0.394723</td>\n",
              "      <td>0.844828</td>\n",
              "    </tr>\n",
              "    <tr>\n",
              "      <td>5</td>\n",
              "      <td>0.598100</td>\n",
              "      <td>0.376642</td>\n",
              "      <td>0.810345</td>\n",
              "    </tr>\n",
              "    <tr>\n",
              "      <td>6</td>\n",
              "      <td>0.598100</td>\n",
              "      <td>0.384770</td>\n",
              "      <td>0.801724</td>\n",
              "    </tr>\n",
              "    <tr>\n",
              "      <td>7</td>\n",
              "      <td>0.598100</td>\n",
              "      <td>0.366241</td>\n",
              "      <td>0.801724</td>\n",
              "    </tr>\n",
              "    <tr>\n",
              "      <td>8</td>\n",
              "      <td>0.458300</td>\n",
              "      <td>0.370653</td>\n",
              "      <td>0.818965</td>\n",
              "    </tr>\n",
              "    <tr>\n",
              "      <td>9</td>\n",
              "      <td>0.458300</td>\n",
              "      <td>0.372406</td>\n",
              "      <td>0.818965</td>\n",
              "    </tr>\n",
              "    <tr>\n",
              "      <td>10</td>\n",
              "      <td>0.458300</td>\n",
              "      <td>0.371034</td>\n",
              "      <td>0.810345</td>\n",
              "    </tr>\n",
              "  </tbody>\n",
              "</table><p>"
            ]
          },
          "metadata": {}
        },
        {
          "output_type": "execute_result",
          "data": {
            "text/plain": [
              "TrainOutput(global_step=1300, training_loss=0.50234984764686, metrics={'train_runtime': 1215.0329, 'train_samples_per_second': 8.527, 'train_steps_per_second': 1.07, 'total_flos': 2725830533529600.0, 'train_loss': 0.50234984764686, 'epoch': 10.0})"
            ]
          },
          "metadata": {},
          "execution_count": 39
        }
      ]
    },
    {
      "cell_type": "code",
      "source": [
        "test_results = trainer.evaluate(test_dataset)\n",
        "test_results"
      ],
      "metadata": {
        "colab": {
          "base_uri": "https://localhost:8080/",
          "height": 139
        },
        "id": "MLer7qaIdRSf",
        "outputId": "e455255a-43ec-48c5-8c42-35bd304131f7"
      },
      "execution_count": 24,
      "outputs": [
        {
          "output_type": "display_data",
          "data": {
            "text/plain": [
              "<IPython.core.display.HTML object>"
            ],
            "text/html": [
              "\n",
              "    <div>\n",
              "      \n",
              "      <progress value='8' max='8' style='width:300px; height:20px; vertical-align: middle;'></progress>\n",
              "      [8/8 00:01]\n",
              "    </div>\n",
              "    "
            ]
          },
          "metadata": {}
        },
        {
          "output_type": "execute_result",
          "data": {
            "text/plain": [
              "{'eval_loss': 0.4649975895881653,\n",
              " 'eval_accuracy': 0.765625,\n",
              " 'eval_runtime': 1.6742,\n",
              " 'eval_samples_per_second': 76.456,\n",
              " 'eval_steps_per_second': 4.778,\n",
              " 'epoch': 6.0}"
            ]
          },
          "metadata": {},
          "execution_count": 24
        }
      ]
    },
    {
      "cell_type": "code",
      "source": [
        "predictions = trainer.predict(test_dataset)\n",
        "predicted_labels = predictions.predictions.argmax(axis=-1)"
      ],
      "metadata": {
        "colab": {
          "base_uri": "https://localhost:8080/",
          "height": 17
        },
        "id": "SO37-eEtEWNA",
        "outputId": "0e246698-51e0-42c3-b4c8-14af88ee08e5"
      },
      "execution_count": 40,
      "outputs": [
        {
          "output_type": "display_data",
          "data": {
            "text/plain": [
              "<IPython.core.display.HTML object>"
            ],
            "text/html": []
          },
          "metadata": {}
        }
      ]
    },
    {
      "cell_type": "code",
      "source": [
        "print(classification_report(y_test, predicted_labels))"
      ],
      "metadata": {
        "colab": {
          "base_uri": "https://localhost:8080/"
        },
        "id": "tSafURyyFQdT",
        "outputId": "e1a8a87f-790c-46e5-d8ee-7d929525cbc6"
      },
      "execution_count": 41,
      "outputs": [
        {
          "output_type": "stream",
          "name": "stdout",
          "text": [
            "              precision    recall  f1-score   support\n",
            "\n",
            "           0       0.75      0.72      0.74        64\n",
            "           1       0.73      0.77      0.75        64\n",
            "\n",
            "    accuracy                           0.74       128\n",
            "   macro avg       0.74      0.74      0.74       128\n",
            "weighted avg       0.74      0.74      0.74       128\n",
            "\n"
          ]
        }
      ]
    },
    {
      "cell_type": "code",
      "source": [
        "plot_confusion_matrix(y_test, predicted_labels)"
      ],
      "metadata": {
        "colab": {
          "base_uri": "https://localhost:8080/",
          "height": 449
        },
        "id": "z450VDfoFoD4",
        "outputId": "96bfb957-9c5d-4387-a29a-2a94f81c7691"
      },
      "execution_count": 42,
      "outputs": [
        {
          "output_type": "display_data",
          "data": {
            "text/plain": [
              "<Figure size 640x480 with 2 Axes>"
            ],
            "image/png": "[encoded data removed]"
          },
          "metadata": {}
        }
      ]
    }
  ]
}