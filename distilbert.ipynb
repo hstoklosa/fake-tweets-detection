{
  "nbformat": 4,
  "nbformat_minor": 0,
  "metadata": {
    "colab": {
      "provenance": [],
      "gpuType": "T4"
    },
    "kernelspec": {
      "name": "python3",
      "display_name": "Python 3"
    },
    "language_info": {
      "name": "python"
    },
    "accelerator": "GPU"
  },
  "cells": [
    {
      "cell_type": "code",
      "source": [
        "from google.colab import drive\n",
        "drive.mount('/content/drive', force_remount=True)\n",
        "\n",
        "# PATH CONSTANTS\n",
        "ABSOLUTE_PATH = \"/content/drive/My Drive/deepfake_tweets\"\n",
        "PREPROCESSED_DATA_DIR = ABSOLUTE_PATH + \"/data/preprocessed\"\n",
        "MODEL_EXPORT_DIR = ABSOLUTE_PATH + \"/models/distilbert\""
      ],
      "metadata": {
        "id": "ItDYF7HapIlI",
        "colab": {
          "base_uri": "https://localhost:8080/"
        },
        "outputId": "5e02742d-955a-4d88-dded-990d2a7831b5"
      },
      "execution_count": 14,
      "outputs": [
        {
          "output_type": "stream",
          "name": "stdout",
          "text": [
            "Mounted at /content/drive\n"
          ]
        }
      ]
    },
    {
      "cell_type": "code",
      "source": [
        "import sys\n",
        "sys.path.insert(0, ABSOLUTE_PATH)"
      ],
      "metadata": {
        "id": "CQq8rlyLG1zp"
      },
      "execution_count": 15,
      "outputs": []
    },
    {
      "cell_type": "markdown",
      "source": [
        "# Training DistilBERT model"
      ],
      "metadata": {
        "id": "lyWhpQXtpj-I"
      }
    },
    {
      "cell_type": "code",
      "source": [
        "import os\n",
        "import random\n",
        "\n",
        "import pandas as pd\n",
        "import numpy as np\n",
        "import matplotlib.pyplot as plt\n",
        "import seaborn as sns\n",
        "\n",
        "import torch\n",
        "from torch.utils.data import DataLoader, Dataset\n",
        "from transformers import (\n",
        "    DistilBertTokenizer,\n",
        "    DistilBertForSequenceClassification,\n",
        "    get_linear_schedule_with_warmup\n",
        ")\n",
        "from torch.optim import AdamW\n",
        "from sklearn.metrics import accuracy_score, classification_report, confusion_matrix, f1_score\n",
        "from utils import TweetDataset, train_model, evaluate_model, export_model\n",
        "from tqdm import tqdm"
      ],
      "metadata": {
        "id": "CJuEEtaBpt-G"
      },
      "execution_count": 16,
      "outputs": []
    },
    {
      "cell_type": "markdown",
      "source": [
        "## Loading (preprocessed) tweepfake dataset"
      ],
      "metadata": {
        "id": "NvAchsIBHOQL"
      }
    },
    {
      "cell_type": "code",
      "source": [
        "# Import splits of the dataset (train, val, test)\n",
        "train_set_path, val_set_path, test_set_path = (\n",
        "    os.path.join(PREPROCESSED_DATA_DIR, \"tweepfake_train.csv\"),\n",
        "    os.path.join(PREPROCESSED_DATA_DIR, \"tweepfake_val.csv\"),\n",
        "    os.path.join(PREPROCESSED_DATA_DIR, \"tweepfake_test.csv\")\n",
        ")\n",
        "\n",
        "train_df, val_df, test_df = (\n",
        "    pd.read_csv(train_set_path),\n",
        "    pd.read_csv(val_set_path),\n",
        "    pd.read_csv(test_set_path)\n",
        ")\n",
        "\n",
        "# Concatenate split sets into a single DataFrame\n",
        "df = pd.concat([train_df, val_df, test_df], ignore_index=True)\n",
        "df.head()"
      ],
      "metadata": {
        "id": "K_YTJoTqHPGY",
        "colab": {
          "base_uri": "https://localhost:8080/",
          "height": 204
        },
        "outputId": "f4d24810-be3d-4c30-94ba-cf086da2f3ee"
      },
      "execution_count": 17,
      "outputs": [
        {
          "output_type": "execute_result",
          "data": {
            "text/plain": [
              "      screen_name                                               text  \\\n",
              "0      imranyebot                                      YEA note GOOD   \n",
              "1          zawvrk                   Listen Charming Man Smiths <URL>   \n",
              "2        zawarbot                  wish would seeing hoes worst part   \n",
              "3  ahadsheriffbot       decade significantly easier schedule like h…   \n",
              "4   kevinhookebot  \"Theim class=\\\"alignnone size-full wp-image-60...   \n",
              "\n",
              "  account.type class_type                                        text_tokens  \n",
              "0          bot     others                                      yea note good  \n",
              "1        human      human                       listen charm man smith <url>  \n",
              "2          bot     others                      wish would see hoe worst part  \n",
              "3          bot     others        decad significantli easier schedul like h …  \n",
              "4          bot        rnn  \" theim class =\\ \" alignnon size-ful wp-imag -...  "
            ],
            "text/html": [
              "\n",
              "  <div id=\"df-d6d148f5-d207-41d9-a428-eb3226f65147\" class=\"colab-df-container\">\n",
              "    <div>\n",
              "<style scoped>\n",
              "    .dataframe tbody tr th:only-of-type {\n",
              "        vertical-align: middle;\n",
              "    }\n",
              "\n",
              "    .dataframe tbody tr th {\n",
              "        vertical-align: top;\n",
              "    }\n",
              "\n",
              "    .dataframe thead th {\n",
              "        text-align: right;\n",
              "    }\n",
              "</style>\n",
              "<table border=\"1\" class=\"dataframe\">\n",
              "  <thead>\n",
              "    <tr style=\"text-align: right;\">\n",
              "      <th></th>\n",
              "      <th>screen_name</th>\n",
              "      <th>text</th>\n",
              "      <th>account.type</th>\n",
              "      <th>class_type</th>\n",
              "      <th>text_tokens</th>\n",
              "    </tr>\n",
              "  </thead>\n",
              "  <tbody>\n",
              "    <tr>\n",
              "      <th>0</th>\n",
              "      <td>imranyebot</td>\n",
              "      <td>YEA note GOOD</td>\n",
              "      <td>bot</td>\n",
              "      <td>others</td>\n",
              "      <td>yea note good</td>\n",
              "    </tr>\n",
              "    <tr>\n",
              "      <th>1</th>\n",
              "      <td>zawvrk</td>\n",
              "      <td>Listen Charming Man Smiths &lt;URL&gt;</td>\n",
              "      <td>human</td>\n",
              "      <td>human</td>\n",
              "      <td>listen charm man smith &lt;url&gt;</td>\n",
              "    </tr>\n",
              "    <tr>\n",
              "      <th>2</th>\n",
              "      <td>zawarbot</td>\n",
              "      <td>wish would seeing hoes worst part</td>\n",
              "      <td>bot</td>\n",
              "      <td>others</td>\n",
              "      <td>wish would see hoe worst part</td>\n",
              "    </tr>\n",
              "    <tr>\n",
              "      <th>3</th>\n",
              "      <td>ahadsheriffbot</td>\n",
              "      <td>decade significantly easier schedule like h…</td>\n",
              "      <td>bot</td>\n",
              "      <td>others</td>\n",
              "      <td>decad significantli easier schedul like h …</td>\n",
              "    </tr>\n",
              "    <tr>\n",
              "      <th>4</th>\n",
              "      <td>kevinhookebot</td>\n",
              "      <td>\"Theim class=\\\"alignnone size-full wp-image-60...</td>\n",
              "      <td>bot</td>\n",
              "      <td>rnn</td>\n",
              "      <td>\" theim class =\\ \" alignnon size-ful wp-imag -...</td>\n",
              "    </tr>\n",
              "  </tbody>\n",
              "</table>\n",
              "</div>\n",
              "    <div class=\"colab-df-buttons\">\n",
              "\n",
              "  <div class=\"colab-df-container\">\n",
              "    <button class=\"colab-df-convert\" onclick=\"convertToInteractive('df-d6d148f5-d207-41d9-a428-eb3226f65147')\"\n",
              "            title=\"Convert this dataframe to an interactive table.\"\n",
              "            style=\"display:none;\">\n",
              "\n",
              "  <svg xmlns=\"http://www.w3.org/2000/svg\" height=\"24px\" viewBox=\"0 -960 960 960\">\n",
              "    <path d=\"M120-120v-720h720v720H120Zm60-500h600v-160H180v160Zm220 220h160v-160H400v160Zm0 220h160v-160H400v160ZM180-400h160v-160H180v160Zm440 0h160v-160H620v160ZM180-180h160v-160H180v160Zm440 0h160v-160H620v160Z\"/>\n",
              "  </svg>\n",
              "    </button>\n",
              "\n",
              "  <style>\n",
              "    .colab-df-container {\n",
              "      display:flex;\n",
              "      gap: 12px;\n",
              "    }\n",
              "\n",
              "    .colab-df-convert {\n",
              "      background-color: #E8F0FE;\n",
              "      border: none;\n",
              "      border-radius: 50%;\n",
              "      cursor: pointer;\n",
              "      display: none;\n",
              "      fill: #1967D2;\n",
              "      height: 32px;\n",
              "      padding: 0 0 0 0;\n",
              "      width: 32px;\n",
              "    }\n",
              "\n",
              "    .colab-df-convert:hover {\n",
              "      background-color: #E2EBFA;\n",
              "      box-shadow: 0px 1px 2px rgba(60, 64, 67, 0.3), 0px 1px 3px 1px rgba(60, 64, 67, 0.15);\n",
              "      fill: #174EA6;\n",
              "    }\n",
              "\n",
              "    .colab-df-buttons div {\n",
              "      margin-bottom: 4px;\n",
              "    }\n",
              "\n",
              "    [theme=dark] .colab-df-convert {\n",
              "      background-color: #3B4455;\n",
              "      fill: #D2E3FC;\n",
              "    }\n",
              "\n",
              "    [theme=dark] .colab-df-convert:hover {\n",
              "      background-color: #434B5C;\n",
              "      box-shadow: 0px 1px 3px 1px rgba(0, 0, 0, 0.15);\n",
              "      filter: drop-shadow(0px 1px 2px rgba(0, 0, 0, 0.3));\n",
              "      fill: #FFFFFF;\n",
              "    }\n",
              "  </style>\n",
              "\n",
              "    <script>\n",
              "      const buttonEl =\n",
              "        document.querySelector('#df-d6d148f5-d207-41d9-a428-eb3226f65147 button.colab-df-convert');\n",
              "      buttonEl.style.display =\n",
              "        google.colab.kernel.accessAllowed ? 'block' : 'none';\n",
              "\n",
              "      async function convertToInteractive(key) {\n",
              "        const element = document.querySelector('#df-d6d148f5-d207-41d9-a428-eb3226f65147');\n",
              "        const dataTable =\n",
              "          await google.colab.kernel.invokeFunction('convertToInteractive',\n",
              "                                                    [key], {});\n",
              "        if (!dataTable) return;\n",
              "\n",
              "        const docLinkHtml = 'Like what you see? Visit the ' +\n",
              "          '<a target=\"_blank\" href=https://colab.research.google.com/notebooks/data_table.ipynb>data table notebook</a>'\n",
              "          + ' to learn more about interactive tables.';\n",
              "        element.innerHTML = '';\n",
              "        dataTable['output_type'] = 'display_data';\n",
              "        await google.colab.output.renderOutput(dataTable, element);\n",
              "        const docLink = document.createElement('div');\n",
              "        docLink.innerHTML = docLinkHtml;\n",
              "        element.appendChild(docLink);\n",
              "      }\n",
              "    </script>\n",
              "  </div>\n",
              "\n",
              "\n",
              "    <div id=\"df-506e32d8-4ef8-4dc5-ab6f-270a12695970\">\n",
              "      <button class=\"colab-df-quickchart\" onclick=\"quickchart('df-506e32d8-4ef8-4dc5-ab6f-270a12695970')\"\n",
              "                title=\"Suggest charts\"\n",
              "                style=\"display:none;\">\n",
              "\n",
              "<svg xmlns=\"http://www.w3.org/2000/svg\" height=\"24px\"viewBox=\"0 0 24 24\"\n",
              "     width=\"24px\">\n",
              "    <g>\n",
              "        <path d=\"M19 3H5c-1.1 0-2 .9-2 2v14c0 1.1.9 2 2 2h14c1.1 0 2-.9 2-2V5c0-1.1-.9-2-2-2zM9 17H7v-7h2v7zm4 0h-2V7h2v10zm4 0h-2v-4h2v4z\"/>\n",
              "    </g>\n",
              "</svg>\n",
              "      </button>\n",
              "\n",
              "<style>\n",
              "  .colab-df-quickchart {\n",
              "      --bg-color: #E8F0FE;\n",
              "      --fill-color: #1967D2;\n",
              "      --hover-bg-color: #E2EBFA;\n",
              "      --hover-fill-color: #174EA6;\n",
              "      --disabled-fill-color: #AAA;\n",
              "      --disabled-bg-color: #DDD;\n",
              "  }\n",
              "\n",
              "  [theme=dark] .colab-df-quickchart {\n",
              "      --bg-color: #3B4455;\n",
              "      --fill-color: #D2E3FC;\n",
              "      --hover-bg-color: #434B5C;\n",
              "      --hover-fill-color: #FFFFFF;\n",
              "      --disabled-bg-color: #3B4455;\n",
              "      --disabled-fill-color: #666;\n",
              "  }\n",
              "\n",
              "  .colab-df-quickchart {\n",
              "    background-color: var(--bg-color);\n",
              "    border: none;\n",
              "    border-radius: 50%;\n",
              "    cursor: pointer;\n",
              "    display: none;\n",
              "    fill: var(--fill-color);\n",
              "    height: 32px;\n",
              "    padding: 0;\n",
              "    width: 32px;\n",
              "  }\n",
              "\n",
              "  .colab-df-quickchart:hover {\n",
              "    background-color: var(--hover-bg-color);\n",
              "    box-shadow: 0 1px 2px rgba(60, 64, 67, 0.3), 0 1px 3px 1px rgba(60, 64, 67, 0.15);\n",
              "    fill: var(--button-hover-fill-color);\n",
              "  }\n",
              "\n",
              "  .colab-df-quickchart-complete:disabled,\n",
              "  .colab-df-quickchart-complete:disabled:hover {\n",
              "    background-color: var(--disabled-bg-color);\n",
              "    fill: var(--disabled-fill-color);\n",
              "    box-shadow: none;\n",
              "  }\n",
              "\n",
              "  .colab-df-spinner {\n",
              "    border: 2px solid var(--fill-color);\n",
              "    border-color: transparent;\n",
              "    border-bottom-color: var(--fill-color);\n",
              "    animation:\n",
              "      spin 1s steps(1) infinite;\n",
              "  }\n",
              "\n",
              "  @keyframes spin {\n",
              "    0% {\n",
              "      border-color: transparent;\n",
              "      border-bottom-color: var(--fill-color);\n",
              "      border-left-color: var(--fill-color);\n",
              "    }\n",
              "    20% {\n",
              "      border-color: transparent;\n",
              "      border-left-color: var(--fill-color);\n",
              "      border-top-color: var(--fill-color);\n",
              "    }\n",
              "    30% {\n",
              "      border-color: transparent;\n",
              "      border-left-color: var(--fill-color);\n",
              "      border-top-color: var(--fill-color);\n",
              "      border-right-color: var(--fill-color);\n",
              "    }\n",
              "    40% {\n",
              "      border-color: transparent;\n",
              "      border-right-color: var(--fill-color);\n",
              "      border-top-color: var(--fill-color);\n",
              "    }\n",
              "    60% {\n",
              "      border-color: transparent;\n",
              "      border-right-color: var(--fill-color);\n",
              "    }\n",
              "    80% {\n",
              "      border-color: transparent;\n",
              "      border-right-color: var(--fill-color);\n",
              "      border-bottom-color: var(--fill-color);\n",
              "    }\n",
              "    90% {\n",
              "      border-color: transparent;\n",
              "      border-bottom-color: var(--fill-color);\n",
              "    }\n",
              "  }\n",
              "</style>\n",
              "\n",
              "      <script>\n",
              "        async function quickchart(key) {\n",
              "          const quickchartButtonEl =\n",
              "            document.querySelector('#' + key + ' button');\n",
              "          quickchartButtonEl.disabled = true;  // To prevent multiple clicks.\n",
              "          quickchartButtonEl.classList.add('colab-df-spinner');\n",
              "          try {\n",
              "            const charts = await google.colab.kernel.invokeFunction(\n",
              "                'suggestCharts', [key], {});\n",
              "          } catch (error) {\n",
              "            console.error('Error during call to suggestCharts:', error);\n",
              "          }\n",
              "          quickchartButtonEl.classList.remove('colab-df-spinner');\n",
              "          quickchartButtonEl.classList.add('colab-df-quickchart-complete');\n",
              "        }\n",
              "        (() => {\n",
              "          let quickchartButtonEl =\n",
              "            document.querySelector('#df-506e32d8-4ef8-4dc5-ab6f-270a12695970 button');\n",
              "          quickchartButtonEl.style.display =\n",
              "            google.colab.kernel.accessAllowed ? 'block' : 'none';\n",
              "        })();\n",
              "      </script>\n",
              "    </div>\n",
              "\n",
              "    </div>\n",
              "  </div>\n"
            ],
            "application/vnd.google.colaboratory.intrinsic+json": {
              "type": "dataframe",
              "variable_name": "df",
              "summary": "{\n  \"name\": \"df\",\n  \"rows\": 25572,\n  \"fields\": [\n    {\n      \"column\": \"screen_name\",\n      \"properties\": {\n        \"dtype\": \"category\",\n        \"num_unique_values\": 40,\n        \"samples\": [\n          \"imranye\",\n          \"theJadenTrudeau\",\n          \"VBoterin\"\n        ],\n        \"semantic_type\": \"\",\n        \"description\": \"\"\n      }\n    },\n    {\n      \"column\": \"text\",\n      \"properties\": {\n        \"dtype\": \"string\",\n        \"num_unique_values\": 25117,\n        \"samples\": [\n          \"important part content producer able mentally picture Brands' Emblems fridge never missing Brand Point Update\",\n          \"j cole lmao\",\n          \"\\\"The ports configure layouts see Even Still-arties Rails Calling around say container configure point strill name IDE-Flu file class tag \\\"\"\n        ],\n        \"semantic_type\": \"\",\n        \"description\": \"\"\n      }\n    },\n    {\n      \"column\": \"account.type\",\n      \"properties\": {\n        \"dtype\": \"category\",\n        \"num_unique_values\": 2,\n        \"samples\": [\n          \"human\",\n          \"bot\"\n        ],\n        \"semantic_type\": \"\",\n        \"description\": \"\"\n      }\n    },\n    {\n      \"column\": \"class_type\",\n      \"properties\": {\n        \"dtype\": \"category\",\n        \"num_unique_values\": 4,\n        \"samples\": [\n          \"human\",\n          \"gpt2\"\n        ],\n        \"semantic_type\": \"\",\n        \"description\": \"\"\n      }\n    },\n    {\n      \"column\": \"text_tokens\",\n      \"properties\": {\n        \"dtype\": \"string\",\n        \"num_unique_values\": 25037,\n        \"samples\": [\n          \"\\u201c haram \\u201d dude make video pretend stop fli lowercas caus over = pray fajr\",\n          \"tast like 3 band kiosk u dont like ima slip \\u2026\"\n        ],\n        \"semantic_type\": \"\",\n        \"description\": \"\"\n      }\n    }\n  ]\n}"
            }
          },
          "metadata": {},
          "execution_count": 17
        }
      ]
    },
    {
      "cell_type": "markdown",
      "source": [
        "## Prepare datasets for binary classification"
      ],
      "metadata": {
        "id": "-3MLtp4TVxpu"
      }
    },
    {
      "cell_type": "code",
      "source": [
        "text_column = 'text_tokens' if 'text_tokens' in train_df.columns else 'text'\n",
        "\n",
        "X_train = train_df[text_column].values\n",
        "y_train = (train_df['account.type'] == 'bot').astype(int).values\n",
        "\n",
        "X_val = val_df[text_column].values\n",
        "y_val = (val_df['account.type'] == 'bot').astype(int).values\n",
        "\n",
        "X_test = test_df[text_column].values\n",
        "y_test = (test_df['account.type'] == 'bot').astype(int).values"
      ],
      "metadata": {
        "id": "jfiJ1Ql8Hfh0"
      },
      "execution_count": 18,
      "outputs": []
    },
    {
      "cell_type": "markdown",
      "source": [
        "## Load DistilBERT model"
      ],
      "metadata": {
        "id": "QHbgB1OvJtCb"
      }
    },
    {
      "cell_type": "code",
      "source": [
        "# MODEL CONSTANTS\n",
        "MODEL_NAME = \"distilbert-base-uncased\"\n",
        "BATCH_SIZE = 32\n",
        "NUM_LABELS = 2\n",
        "NUM_EPOCHS = 5\n",
        "\n",
        "tokenizer = DistilBertTokenizer.from_pretrained(MODEL_NAME)\n",
        "model = DistilBertForSequenceClassification.from_pretrained(\n",
        "    MODEL_NAME, num_labels=NUM_LABELS, output_attentions=False, output_hidden_states=False\n",
        ")\n",
        "\n",
        "device = \"cuda:0\" if torch.cuda.is_available() else \"cpu\"\n",
        "model = model.to(device)"
      ],
      "metadata": {
        "id": "RHLPQx-IJsku",
        "colab": {
          "base_uri": "https://localhost:8080/"
        },
        "outputId": "46100138-7457-4cbe-f4e0-17da3ba6040e"
      },
      "execution_count": 19,
      "outputs": [
        {
          "output_type": "stream",
          "name": "stderr",
          "text": [
            "/usr/local/lib/python3.11/dist-packages/huggingface_hub/utils/_auth.py:94: UserWarning: \n",
            "The secret `HF_TOKEN` does not exist in your Colab secrets.\n",
            "To authenticate with the Hugging Face Hub, create a token in your settings tab (https://huggingface.co/settings/tokens), set it as secret in your Google Colab and restart your session.\n",
            "You will be able to reuse this secret in all of your notebooks.\n",
            "Please note that authentication is recommended but still optional to access public models or datasets.\n",
            "  warnings.warn(\n",
            "Some weights of DistilBertForSequenceClassification were not initialized from the model checkpoint at distilbert-base-uncased and are newly initialized: ['classifier.bias', 'classifier.weight', 'pre_classifier.bias', 'pre_classifier.weight']\n",
            "You should probably TRAIN this model on a down-stream task to be able to use it for predictions and inference.\n"
          ]
        }
      ]
    },
    {
      "cell_type": "markdown",
      "source": [
        "### Create PyTorch datasets and dataloaders"
      ],
      "metadata": {
        "id": "7uRoqXgdV4go"
      }
    },
    {
      "cell_type": "code",
      "source": [
        "train_dataset = TweetDataset(X_train, y_train, tokenizer)\n",
        "val_dataset = TweetDataset(X_val, y_val, tokenizer)\n",
        "test_dataset = TweetDataset(X_test, y_test, tokenizer)\n",
        "\n",
        "train_dataloader = DataLoader(\n",
        "    train_dataset, batch_size=BATCH_SIZE, shuffle=True)\n",
        "val_dataloader = DataLoader(\n",
        "    val_dataset, batch_size=BATCH_SIZE)\n",
        "test_dataloader = DataLoader(\n",
        "    test_dataset, batch_size=BATCH_SIZE)\n",
        "\n",
        "print(f\"Created dataloaders with batch size {BATCH_SIZE}\")"
      ],
      "metadata": {
        "id": "Wd9PPRNVV6uF",
        "colab": {
          "base_uri": "https://localhost:8080/"
        },
        "outputId": "30776e71-fb6b-4d99-98b2-ce13601c47c3"
      },
      "execution_count": 21,
      "outputs": [
        {
          "output_type": "stream",
          "name": "stdout",
          "text": [
            "Created dataloaders with batch size 32\n"
          ]
        }
      ]
    },
    {
      "cell_type": "markdown",
      "source": [
        "## Fine-tuning DistilBERT"
      ],
      "metadata": {
        "id": "UJL00UD6Wwby"
      }
    },
    {
      "cell_type": "markdown",
      "source": [
        "### Configuration\n",
        "\n",
        "The following code defines the recommended hyperparameters for the DistilBERT model. It uses a slightly higher learning rate and more epochs compared to BERT due to the difference in sizes."
      ],
      "metadata": {
        "id": "v7i3FwdmWylz"
      }
    },
    {
      "cell_type": "code",
      "source": [
        "optimizer = AdamW(model.parameters(), lr=5e-5, eps=1e-8)\n",
        "epochs = 5\n",
        "total_steps = len(train_dataloader) * epochs\n",
        "scheduler = get_linear_schedule_with_warmup(\n",
        "    optimizer,\n",
        "    num_warmup_steps=int(0.1 * total_steps),  # 10% warmup\n",
        "    num_training_steps=total_steps\n",
        ")"
      ],
      "metadata": {
        "id": "rMJHnNYjW0O4"
      },
      "execution_count": 22,
      "outputs": []
    },
    {
      "cell_type": "markdown",
      "source": [
        "### Training the model"
      ],
      "metadata": {
        "id": "JSuUvQziXWAZ"
      }
    },
    {
      "cell_type": "code",
      "source": [
        "finetuned_model, training_stats = train_model(\n",
        "    model, train_dataloader, val_dataloader, optimizer, scheduler, epochs, device)"
      ],
      "metadata": {
        "id": "0OYB9hG7XXc_",
        "colab": {
          "base_uri": "https://localhost:8080/"
        },
        "outputId": "02895274-b194-43ae-e2e7-8f72b07e4436"
      },
      "execution_count": 23,
      "outputs": [
        {
          "output_type": "stream",
          "name": "stdout",
          "text": [
            "\n",
            "======== Epoch 1 / 5 ========\n",
            "Training...\n"
          ]
        },
        {
          "output_type": "stream",
          "name": "stderr",
          "text": [
            "Training: 100%|██████████| 648/648 [03:26<00:00,  3.14it/s, loss=0.1681]\n"
          ]
        },
        {
          "output_type": "stream",
          "name": "stdout",
          "text": [
            "Average training loss: 0.3976\n",
            "Running validation...\n"
          ]
        },
        {
          "output_type": "stream",
          "name": "stderr",
          "text": [
            "Validation: 100%|██████████| 72/72 [00:08<00:00,  8.75it/s]\n"
          ]
        },
        {
          "output_type": "stream",
          "name": "stdout",
          "text": [
            "Validation Loss: 0.3574\n",
            "Validation Accuracy: 0.8262\n",
            "Validation F1 Score: 0.8283\n",
            "New best model with validation accuracy: 0.8262\n",
            "\n",
            "======== Epoch 2 / 5 ========\n",
            "Training...\n"
          ]
        },
        {
          "output_type": "stream",
          "name": "stderr",
          "text": [
            "Training: 100%|██████████| 648/648 [03:33<00:00,  3.03it/s, loss=0.0844]\n"
          ]
        },
        {
          "output_type": "stream",
          "name": "stdout",
          "text": [
            "Average training loss: 0.2705\n",
            "Running validation...\n"
          ]
        },
        {
          "output_type": "stream",
          "name": "stderr",
          "text": [
            "Validation: 100%|██████████| 72/72 [00:08<00:00,  8.77it/s]\n"
          ]
        },
        {
          "output_type": "stream",
          "name": "stdout",
          "text": [
            "Validation Loss: 0.3136\n",
            "Validation Accuracy: 0.8558\n",
            "Validation F1 Score: 0.8600\n",
            "New best model with validation accuracy: 0.8558\n",
            "\n",
            "======== Epoch 3 / 5 ========\n",
            "Training...\n"
          ]
        },
        {
          "output_type": "stream",
          "name": "stderr",
          "text": [
            "Training: 100%|██████████| 648/648 [03:34<00:00,  3.03it/s, loss=0.0054]\n"
          ]
        },
        {
          "output_type": "stream",
          "name": "stdout",
          "text": [
            "Average training loss: 0.1612\n",
            "Running validation...\n"
          ]
        },
        {
          "output_type": "stream",
          "name": "stderr",
          "text": [
            "Validation: 100%|██████████| 72/72 [00:08<00:00,  8.91it/s]\n"
          ]
        },
        {
          "output_type": "stream",
          "name": "stdout",
          "text": [
            "Validation Loss: 0.3985\n",
            "Validation Accuracy: 0.8449\n",
            "Validation F1 Score: 0.8436\n",
            "\n",
            "======== Epoch 4 / 5 ========\n",
            "Training...\n"
          ]
        },
        {
          "output_type": "stream",
          "name": "stderr",
          "text": [
            "Training: 100%|██████████| 648/648 [03:33<00:00,  3.03it/s, loss=0.0200]\n"
          ]
        },
        {
          "output_type": "stream",
          "name": "stdout",
          "text": [
            "Average training loss: 0.0734\n",
            "Running validation...\n"
          ]
        },
        {
          "output_type": "stream",
          "name": "stderr",
          "text": [
            "Validation: 100%|██████████| 72/72 [00:08<00:00,  8.79it/s]\n"
          ]
        },
        {
          "output_type": "stream",
          "name": "stdout",
          "text": [
            "Validation Loss: 0.7063\n",
            "Validation Accuracy: 0.8449\n",
            "Validation F1 Score: 0.8471\n",
            "\n",
            "======== Epoch 5 / 5 ========\n",
            "Training...\n"
          ]
        },
        {
          "output_type": "stream",
          "name": "stderr",
          "text": [
            "Training: 100%|██████████| 648/648 [03:33<00:00,  3.03it/s, loss=0.0003]\n"
          ]
        },
        {
          "output_type": "stream",
          "name": "stdout",
          "text": [
            "Average training loss: 0.0344\n",
            "Running validation...\n"
          ]
        },
        {
          "output_type": "stream",
          "name": "stderr",
          "text": [
            "Validation: 100%|██████████| 72/72 [00:08<00:00,  8.77it/s]"
          ]
        },
        {
          "output_type": "stream",
          "name": "stdout",
          "text": [
            "Validation Loss: 0.8797\n",
            "Validation Accuracy: 0.8410\n",
            "Validation F1 Score: 0.8406\n",
            "Loaded best model with validation accuracy: 0.8558\n"
          ]
        },
        {
          "output_type": "stream",
          "name": "stderr",
          "text": [
            "\n"
          ]
        }
      ]
    },
    {
      "cell_type": "markdown",
      "source": [
        "## Evaluation on the test set"
      ],
      "metadata": {
        "id": "7DyK3lWNeA7R"
      }
    },
    {
      "cell_type": "code",
      "source": [
        "eval_results = evaluate_model(finetuned_model, test_dataloader, device)"
      ],
      "metadata": {
        "colab": {
          "base_uri": "https://localhost:8080/"
        },
        "id": "NJs87Gj_eMZ6",
        "outputId": "876942c9-1310-4172-e82a-99015ac73bcb"
      },
      "execution_count": 24,
      "outputs": [
        {
          "output_type": "stream",
          "name": "stderr",
          "text": [
            "Evaluating: 100%|██████████| 80/80 [00:08<00:00,  8.91it/s]\n"
          ]
        }
      ]
    },
    {
      "cell_type": "code",
      "source": [
        "loss, accuracy, f1 = eval_results['loss'], eval_results['accuracy'], eval_results['f1']\n",
        "print(f\"Test Loss: {loss:.4f}\")\n",
        "print(f\"Test Accuracy: {accuracy:.4f}\")\n",
        "print(f\"Test F1 Score: {f1:.4f}\")"
      ],
      "metadata": {
        "colab": {
          "base_uri": "https://localhost:8080/"
        },
        "id": "RYECu7vufd0O",
        "outputId": "ee982244-2f72-4d84-8342-c775032f04de"
      },
      "execution_count": 25,
      "outputs": [
        {
          "output_type": "stream",
          "name": "stdout",
          "text": [
            "Test Loss: 0.8600\n",
            "Test Accuracy: 0.8358\n",
            "Test F1 Score: 0.8370\n"
          ]
        }
      ]
    },
    {
      "cell_type": "code",
      "source": [
        "print(\"\\nClassification Report:\")\n",
        "print(classification_report(eval_results['true_labels'], eval_results['predictions'],\n",
        "                          target_names=['Human', 'Bot']))"
      ],
      "metadata": {
        "colab": {
          "base_uri": "https://localhost:8080/"
        },
        "id": "D4VCHy2Hfsg5",
        "outputId": "5b6efdd9-0f44-46e7-a320-2f338d995a15"
      },
      "execution_count": 26,
      "outputs": [
        {
          "output_type": "stream",
          "name": "stdout",
          "text": [
            "\n",
            "Classification Report:\n",
            "              precision    recall  f1-score   support\n",
            "\n",
            "       Human       0.84      0.83      0.83      1278\n",
            "         Bot       0.83      0.84      0.84      1280\n",
            "\n",
            "    accuracy                           0.84      2558\n",
            "   macro avg       0.84      0.84      0.84      2558\n",
            "weighted avg       0.84      0.84      0.84      2558\n",
            "\n"
          ]
        }
      ]
    },
    {
      "cell_type": "code",
      "source": [
        "cm = confusion_matrix(eval_results['true_labels'], eval_results['predictions'])\n",
        "plt.figure(figsize=(8, 6))\n",
        "sns.heatmap(cm, annot=True, fmt='d', cmap='Blues', xticklabels=['Human', 'Bot'], yticklabels=['Human', 'Bot'])\n",
        "plt.xlabel('Predicted')\n",
        "plt.ylabel('True')\n",
        "plt.title('Confusion Matrix - Fine-tuned BERT')\n",
        "plt.show()"
      ],
      "metadata": {
        "colab": {
          "base_uri": "https://localhost:8080/",
          "height": 564
        },
        "id": "etqfA0YKfwpK",
        "outputId": "b89c9426-3562-47f8-88a0-c12fd0847921"
      },
      "execution_count": 27,
      "outputs": [
        {
          "output_type": "display_data",
          "data": {
            "text/plain": [
              "<Figure size 800x600 with 2 Axes>"
            ],
            "image/png": "[encoded data removed]"
          },
          "metadata": {}
        }
      ]
    },
    {
      "cell_type": "markdown",
      "source": [
        "## Export fine-tuned DistilBERT model"
      ],
      "metadata": {
        "id": "TFEJ2kgkysdP"
      }
    },
    {
      "cell_type": "code",
      "source": [
        "export_model(finetuned_model, tokenizer, MODEL_EXPORT_DIR)"
      ],
      "metadata": {
        "id": "v-2zSKkvywhV"
      },
      "execution_count": 28,
      "outputs": []
    }
  ]
}