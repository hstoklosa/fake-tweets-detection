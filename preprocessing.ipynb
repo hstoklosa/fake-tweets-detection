{
  "cells": [
    {
      "cell_type": "code",
      "execution_count": 10,
      "metadata": {
        "colab": {
          "base_uri": "https://localhost:8080/"
        },
        "id": "ibo192R5jbRm",
        "outputId": "84d5802d-cb79-429d-9670-017b25155daf"
      },
      "outputs": [
        {
          "name": "stdout",
          "output_type": "stream",
          "text": [
            "Mounted at /content/drive\n"
          ]
        }
      ],
      "source": [
        "from google.colab import drive\n",
        "drive.mount('/content/drive', force_remount=True)"
      ]
    },
    {
      "cell_type": "markdown",
      "metadata": {
        "id": "AyQ52GnJ_4vs"
      },
      "source": [
        "# Data Preprocessing (Tweepfake)"
      ]
    },
    {
      "cell_type": "code",
      "execution_count": 11,
      "metadata": {
        "id": "8EaLaUgW_75y"
      },
      "outputs": [],
      "source": [
        "import os\n",
        "import re\n",
        "\n",
        "import pandas as pd\n",
        "import nltk\n",
        "from nltk.corpus import stopwords\n",
        "from nltk.stem import WordNetLemmatizer\n",
        "from nltk.tokenize import word_tokenize\n",
        "\n",
        "nltk.download('punkt')\n",
        "nltk.download('stopwords')\n",
        "nltk.download('wordnet')\n",
        "\n",
        "\n",
        "ABSOLUTE_PATH = \"/content/drive/My Drive/deepfake_tweets\"\n",
        "EXPORT_DIR_PATH = os.path.join(ABSOLUTE_PATH, \"data/preprocessed/\")"
      ]
    },
    {
      "cell_type": "code",
      "execution_count": 12,
      "metadata": {
        "id": "qRQv8PlC5nwG"
      },
      "outputs": [],
      "source": [
        "# Import split dataset\n",
        "train_set_path, val_set_path, test_set_path = (\n",
        "    os.path.join(ABSOLUTE_PATH, \"data/tweepfake_train.csv\"),\n",
        "    os.path.join(ABSOLUTE_PATH, \"data/tweepfake_val.csv\"),\n",
        "    os.path.join(ABSOLUTE_PATH, \"data/tweepfake_test.csv\")\n",
        ")\n",
        "\n",
        "train_df, val_df, test_df = (\n",
        "    pd.read_csv(train_set_path, sep=\";\"),\n",
        "    pd.read_csv(val_set_path, sep=\";\"),\n",
        "    pd.read_csv(test_set_path, sep=\";\")\n",
        ")\n",
        "\n",
        "# Concatenate split sets into a single DataFrame\n",
        "df = pd.concat([train_df, val_df, test_df], ignore_index=True)"
      ]
    },
    {
      "cell_type": "markdown",
      "metadata": {
        "id": "j79ZI9cF372m"
      },
      "source": [
        "## Data Cleaning"
      ]
    },
    {
      "cell_type": "code",
      "execution_count": 13,
      "metadata": {
        "id": "9xuwtiPc3-yy"
      },
      "outputs": [],
      "source": [
        "def clean_data(text):\n",
        "  text = re.sub(r'https?://[^\\s\\n\\r]+', '<URL>', text) # Replace links with <URL> tag\n",
        "  text = re.sub(r'#\\w+', '<HASHTAG>', text)            # Replace hashtags with <HASHTAG> tag\n",
        "  text = re.sub(r'@\\w+', '<MENTION>', text)            # Replace mentions with <MENTION> tag\n",
        "  return text\n",
        "\n",
        "train_df['text'] = train_df['text'].apply(clean_data)\n",
        "val_df['text'] = val_df['text'].apply(clean_data)\n",
        "test_df['text'] = test_df['text'].apply(clean_data)"
      ]
    },
    {
      "cell_type": "markdown",
      "metadata": {
        "id": "bzpODRGh3_GX"
      },
      "source": []
    },
    {
      "cell_type": "markdown",
      "metadata": {
        "id": "EcJ7WLFk4nyI"
      },
      "source": [
        "## Data Normalisation"
      ]
    },
    {
      "cell_type": "code",
      "execution_count": 14,
      "metadata": {
        "id": "CGDd08iP4p4l"
      },
      "outputs": [],
      "source": [
        "def normalise_data(text):\n",
        "\n",
        "  return text"
      ]
    },
    {
      "cell_type": "markdown",
      "metadata": {
        "id": "lGcz2cehUT-K"
      },
      "source": [
        "## Exporting preprocessed dataset"
      ]
    },
    {
      "cell_type": "code",
      "execution_count": 15,
      "metadata": {
        "colab": {
          "base_uri": "https://localhost:8080/"
        },
        "id": "nMh-WBBNUXXD",
        "outputId": "bc192d02-eef8-4574-ef35-c9e9098b2e19"
      },
      "outputs": [
        {
          "name": "stdout",
          "output_type": "stream",
          "text": [
            "Datasets saved to /content/drive/My Drive/deepfake_tweets/data/preprocessed/\n"
          ]
        }
      ],
      "source": [
        "if not os.path.exists(EXPORT_DIR_PATH):\n",
        "    os.makedirs(EXPORT_DIR_PATH)\n",
        "\n",
        "train_df.to_csv(os.path.join(EXPORT_DIR_PATH, \"tweepfake_train.csv\"), index=False)\n",
        "val_df.to_csv(os.path.join(EXPORT_DIR_PATH, \"tweepfake_val.csv\"), index=False)\n",
        "test_df.to_csv(os.path.join(EXPORT_DIR_PATH, \"tweepfake_test.csv\"), index=False)\n",
        "\n",
        "print(f\"Datasets saved to {output_dir}\")\n"
      ]
    }
  ],
  "metadata": {
    "colab": {
      "provenance": []
    },
    "kernelspec": {
      "display_name": "Python 3",
      "name": "python3"
    },
    "language_info": {
      "name": "python"
    }
  },
  "nbformat": 4,
  "nbformat_minor": 0
}
