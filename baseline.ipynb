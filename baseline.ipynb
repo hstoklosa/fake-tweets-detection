{
 "cells": [
  {
   "cell_type": "code",
   "execution_count": 75,
   "metadata": {
    "colab": {
     "base_uri": "https://localhost:8080/"
    },
    "executionInfo": {
     "elapsed": 4307,
     "status": "ok",
     "timestamp": 1746878354307,
     "user": {
      "displayName": "Hubert Stoklosa",
      "userId": "12018217005782973018"
     },
     "user_tz": -60
    },
    "id": "-HFU2JtbgufP",
    "outputId": "07bcc345-5d1c-4412-b358-93ab9a8390e7"
   },
   "outputs": [
    {
     "name": "stdout",
     "output_type": "stream",
     "text": [
      "Mounted at /content/drive\n"
     ]
    }
   ],
   "source": [
    "from google.colab import drive\n",
    "drive.mount('/content/drive', force_remount=True)"
   ]
  },
  {
   "cell_type": "code",
   "execution_count": 76,
   "metadata": {
    "executionInfo": {
     "elapsed": 9,
     "status": "ok",
     "timestamp": 1746878354309,
     "user": {
      "displayName": "Hubert Stoklosa",
      "userId": "12018217005782973018"
     },
     "user_tz": -60
    },
    "id": "as7WiQfHQoNx"
   },
   "outputs": [],
   "source": [
    "import sys\n",
    "\n",
    "ABSOLUTE_PATH = \"/content/drive/My Drive/deepfake_tweets\"\n",
    "PREPROCESSED_DATA_DIR = ABSOLUTE_PATH + \"/data/preprocessed\"\n",
    "EXPORT_MODEL_DIR = ABSOLUTE_PATH + \"/models/baseline\"\n",
    "\n",
    "sys.path.insert(0, ABSOLUTE_PATH)"
   ]
  },
  {
   "cell_type": "markdown",
   "metadata": {
    "id": "Xkr5ik3qhZkd"
   },
   "source": [
    "# Building BERT baseline results"
   ]
  },
  {
   "cell_type": "code",
   "execution_count": 77,
   "metadata": {
    "executionInfo": {
     "elapsed": 5,
     "status": "ok",
     "timestamp": 1746878354310,
     "user": {
      "displayName": "Hubert Stoklosa",
      "userId": "12018217005782973018"
     },
     "user_tz": -60
    },
    "id": "-n7f_bBThdO8"
   },
   "outputs": [],
   "source": [
    "import os\n",
    "\n",
    "import pandas as pd\n",
    "import numpy as np\n",
    "import matplotlib.pyplot as plt\n",
    "import seaborn as sns\n",
    "\n",
    "import torch\n",
    "from torch.utils.data import DataLoader, Dataset\n",
    "from transformers import (\n",
    "    BertTokenizer,\n",
    "    BertForSequenceClassification,\n",
    "    TrainingArguments,\n",
    "    Trainer,\n",
    ")\n",
    "from sklearn.metrics import (\n",
    "    accuracy_score,\n",
    "    classification_report,\n",
    "    confusion_matrix\n",
    ")\n",
    "\n",
    "from utils import TweetDataset, compute_metrics, plot_confusion_matrix"
   ]
  },
  {
   "cell_type": "code",
   "execution_count": 78,
   "metadata": {
    "executionInfo": {
     "elapsed": 172,
     "status": "ok",
     "timestamp": 1746878354478,
     "user": {
      "displayName": "Hubert Stoklosa",
      "userId": "12018217005782973018"
     },
     "user_tz": -60
    },
    "id": "7tgVDlCJhewk"
   },
   "outputs": [],
   "source": [
    "# Import preprocessed dataset splits\n",
    "train_df, val_df, test_df = (\n",
    "    pd.read_csv(os.path.join(PREPROCESSED_DATA_DIR, \"tweepfake_train.csv\")),\n",
    "    pd.read_csv(os.path.join(PREPROCESSED_DATA_DIR, \"tweepfake_val.csv\")),\n",
    "    pd.read_csv(os.path.join(PREPROCESSED_DATA_DIR, \"tweepfake_test.csv\"))\n",
    ")"
   ]
  },
  {
   "cell_type": "markdown",
   "metadata": {
    "id": "e4wbvXiMhpeI"
   },
   "source": [
    "## Loading tokenizer and model"
   ]
  },
  {
   "cell_type": "code",
   "execution_count": 79,
   "metadata": {
    "colab": {
     "base_uri": "https://localhost:8080/"
    },
    "executionInfo": {
     "elapsed": 822,
     "status": "ok",
     "timestamp": 1746878355299,
     "user": {
      "displayName": "Hubert Stoklosa",
      "userId": "12018217005782973018"
     },
     "user_tz": -60
    },
    "id": "cgtRSQaWhq4q",
    "outputId": "d8c4b15e-5b99-4056-a935-a6d63483158d"
   },
   "outputs": [
    {
     "name": "stderr",
     "output_type": "stream",
     "text": [
      "Some weights of BertForSequenceClassification were not initialized from the model checkpoint at bert-base-cased and are newly initialized: ['classifier.bias', 'classifier.weight']\n",
      "You should probably TRAIN this model on a down-stream task to be able to use it for predictions and inference.\n"
     ]
    }
   ],
   "source": [
    "MODEL_NAME = \"bert-base-cased\"\n",
    "NUM_LABELS = 2\n",
    "BATCH_SIZE = 32\n",
    "\n",
    "tokenizer = BertTokenizer.from_pretrained(MODEL_NAME)\n",
    "model = BertForSequenceClassification.from_pretrained(\n",
    "    MODEL_NAME,\n",
    "    num_labels=NUM_LABELS,\n",
    "    # output_attentions=False,\n",
    "    # output_hidden_states=False\n",
    ")"
   ]
  },
  {
   "cell_type": "code",
   "execution_count": 80,
   "metadata": {
    "executionInfo": {
     "elapsed": 139,
     "status": "ok",
     "timestamp": 1746878355448,
     "user": {
      "displayName": "Hubert Stoklosa",
      "userId": "12018217005782973018"
     },
     "user_tz": -60
    },
    "id": "CT1tQQLR4s_p"
   },
   "outputs": [],
   "source": [
    "device = \"cuda:0\" if torch.cuda.is_available() else \"cpu\"\n",
    "model = model.to(device)"
   ]
  },
  {
   "cell_type": "markdown",
   "metadata": {
    "id": "KqJ20vK3jVjT"
   },
   "source": [
    "### Preparing dataset for testing"
   ]
  },
  {
   "cell_type": "code",
   "execution_count": 81,
   "metadata": {
    "executionInfo": {
     "elapsed": 1,
     "status": "ok",
     "timestamp": 1746878355454,
     "user": {
      "displayName": "Hubert Stoklosa",
      "userId": "12018217005782973018"
     },
     "user_tz": -60
    },
    "id": "89OPfwbXjaEA"
   },
   "outputs": [],
   "source": [
    "label_mapping = { 0: \"human\", 1: \"bot\" }\n",
    "\n",
    "X_test = test_df['text'].values\n",
    "y_test = (test_df['account.type'] == 'bot').astype(int).values\n",
    "\n",
    "test_dataset = TweetDataset(X_test, y_test, tokenizer)"
   ]
  },
  {
   "cell_type": "markdown",
   "metadata": {
    "id": "DBQvP4f2igni"
   },
   "source": [
    "## Model inference"
   ]
  },
  {
   "cell_type": "code",
   "execution_count": 82,
   "metadata": {
    "colab": {
     "base_uri": "https://localhost:8080/"
    },
    "executionInfo": {
     "elapsed": 29,
     "status": "ok",
     "timestamp": 1746878355484,
     "user": {
      "displayName": "Hubert Stoklosa",
      "userId": "12018217005782973018"
     },
     "user_tz": -60
    },
    "id": "KShMS6a8ig2R",
    "outputId": "161855ff-3326-410e-9abd-7b67f1780ed8"
   },
   "outputs": [
    {
     "name": "stderr",
     "output_type": "stream",
     "text": [
      "<ipython-input-82-d05125b83c44>:6: FutureWarning: `tokenizer` is deprecated and will be removed in version 5.0.0 for `Trainer.__init__`. Use `processing_class` instead.\n",
      "  trainer = Trainer(\n"
     ]
    }
   ],
   "source": [
    "args = TrainingArguments(\n",
    "    output_dir=EXPORT_MODEL_DIR,\n",
    "    report_to=[\"tensorboard\"]\n",
    ")\n",
    "\n",
    "trainer = Trainer(\n",
    "    model=model,\n",
    "    args=args,\n",
    "    tokenizer=tokenizer,\n",
    "    compute_metrics=compute_metrics,\n",
    ")"
   ]
  },
  {
   "cell_type": "markdown",
   "metadata": {
    "id": "MeFZdFoejJgc"
   },
   "source": [
    "### Evaluate results"
   ]
  },
  {
   "cell_type": "code",
   "execution_count": 83,
   "metadata": {
    "executionInfo": {
     "elapsed": 40,
     "status": "ok",
     "timestamp": 1746878355531,
     "user": {
      "displayName": "Hubert Stoklosa",
      "userId": "12018217005782973018"
     },
     "user_tz": -60
    },
    "id": "l6oCJJkYjK2e"
   },
   "outputs": [],
   "source": [
    "# eval_results = trainer.evaluate(test_dataset)\n",
    "# eval_results"
   ]
  },
  {
   "cell_type": "code",
   "execution_count": 84,
   "metadata": {
    "colab": {
     "base_uri": "https://localhost:8080/",
     "height": 17
    },
    "executionInfo": {
     "elapsed": 67876,
     "status": "ok",
     "timestamp": 1746878423406,
     "user": {
      "displayName": "Hubert Stoklosa",
      "userId": "12018217005782973018"
     },
     "user_tz": -60
    },
    "id": "NwK5nYiC9ERO",
    "outputId": "581f02fe-9073-4d42-bf50-95b431fac745"
   },
   "outputs": [
    {
     "data": {
      "text/html": [],
      "text/plain": [
       "<IPython.core.display.HTML object>"
      ]
     },
     "metadata": {},
     "output_type": "display_data"
    }
   ],
   "source": [
    "predictions = trainer.predict(test_dataset)\n",
    "predicted_labels = predictions.predictions.argmax(axis=-1)"
   ]
  },
  {
   "cell_type": "code",
   "execution_count": 85,
   "metadata": {
    "colab": {
     "base_uri": "https://localhost:8080/"
    },
    "executionInfo": {
     "elapsed": 28,
     "status": "ok",
     "timestamp": 1746878423432,
     "user": {
      "displayName": "Hubert Stoklosa",
      "userId": "12018217005782973018"
     },
     "user_tz": -60
    },
    "id": "bhw1iZTbD8cd",
    "outputId": "7ced1c31-07de-4e20-e797-73db45e5d287"
   },
   "outputs": [
    {
     "name": "stdout",
     "output_type": "stream",
     "text": [
      "              precision    recall  f1-score   support\n",
      "\n",
      "           0       0.00      0.00      0.00      1278\n",
      "           1       0.50      1.00      0.67      1280\n",
      "\n",
      "    accuracy                           0.50      2558\n",
      "   macro avg       0.25      0.50      0.33      2558\n",
      "weighted avg       0.25      0.50      0.33      2558\n",
      "\n"
     ]
    }
   ],
   "source": [
    "print(classification_report(y_test, predicted_labels))"
   ]
  },
  {
   "cell_type": "code",
   "execution_count": 86,
   "metadata": {
    "colab": {
     "base_uri": "https://localhost:8080/",
     "height": 449
    },
    "executionInfo": {
     "elapsed": 231,
     "status": "ok",
     "timestamp": 1746878423656,
     "user": {
      "displayName": "Hubert Stoklosa",
      "userId": "12018217005782973018"
     },
     "user_tz": -60
    },
    "id": "c4gTLq4cD--K",
    "outputId": "c2864a7f-ac51-484f-9891-0e0fba21fa59"
   },
   "outputs": [
    {
     "data": {
      "image/png": "[encoded data removed]",
      "text/plain": [
       "<Figure size 640x480 with 2 Axes>"
      ]
     },
     "metadata": {},
     "output_type": "display_data"
    }
   ],
   "source": [
    "plot_confusion_matrix(y_test, predicted_labels)"
   ]
  },
  {
   "cell_type": "code",
   "execution_count": 87,
   "metadata": {
    "colab": {
     "base_uri": "https://localhost:8080/"
    },
    "executionInfo": {
     "elapsed": 9,
     "status": "ok",
     "timestamp": 1746878423667,
     "user": {
      "displayName": "Hubert Stoklosa",
      "userId": "12018217005782973018"
     },
     "user_tz": -60
    },
    "id": "E1zAQGlf9HRU",
    "outputId": "5a4b858c-14ca-4393-acd6-61589f66de68"
   },
   "outputs": [
    {
     "name": "stdout",
     "output_type": "stream",
     "text": [
      "              precision    recall  f1-score   support\n",
      "\n",
      "         bot       0.50      1.00      0.67      1280\n",
      "       human       0.00      0.00      0.00      1278\n",
      "\n",
      "    accuracy                           0.50      2558\n",
      "   macro avg       0.25      0.50      0.33      2558\n",
      "weighted avg       0.25      0.50      0.33      2558\n",
      "\n"
     ]
    }
   ],
   "source": [
    "y_test = np.array([label_mapping[label] for label in y_test])\n",
    "predicted_labels = np.array([label_mapping[label] for label in predicted_labels])\n",
    "\n",
    "print(classification_report(y_test, predicted_labels))"
   ]
  }
 ],
 "metadata": {
  "accelerator": "GPU",
  "colab": {
   "authorship_tag": "ABX9TyNgVdGjGq18eDa2/b9Qt+Ct",
   "gpuType": "T4",
   "mount_file_id": "116FCe2He9JHKZE7La5ygGHgrsCZhpI8y",
   "provenance": []
  },
  "kernelspec": {
   "display_name": ".venv",
   "language": "python",
   "name": "python3"
  },
  "language_info": {
   "name": "python",
   "version": "3.12.0"
  }
 },
 "nbformat": 4,
 "nbformat_minor": 0
}
