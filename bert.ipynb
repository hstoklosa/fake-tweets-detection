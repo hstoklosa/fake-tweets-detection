{
  "nbformat": 4,
  "nbformat_minor": 0,
  "metadata": {
    "colab": {
      "provenance": [],
      "machine_shape": "hm",
      "gpuType": "T4"
    },
    "kernelspec": {
      "name": "python3",
      "display_name": "Python 3"
    },
    "language_info": {
      "name": "python"
    },
    "accelerator": "GPU"
  },
  "cells": [
    {
      "cell_type": "code",
      "source": [
        "from google.colab import drive\n",
        "drive.mount('/content/drive', force_remount=True)\n",
        "\n",
        "# PATH CONSTANTS\n",
        "ABSOLUTE_PATH = \"/content/drive/My Drive/deepfake_tweets\"\n",
        "PREPROCESSED_DATA_DIR = ABSOLUTE_PATH + \"/data/preprocessed\"\n",
        "MODEL_EXPORT_DIR = ABSOLUTE_PATH + \"/models/bert\""
      ],
      "metadata": {
        "id": "IgQwsVK7kWMa",
        "colab": {
          "base_uri": "https://localhost:8080/"
        },
        "outputId": "1a558c2b-c3c6-469b-a7e8-ad2d25e09c38"
      },
      "execution_count": 16,
      "outputs": [
        {
          "output_type": "stream",
          "name": "stdout",
          "text": [
            "Mounted at /content/drive\n"
          ]
        }
      ]
    },
    {
      "cell_type": "code",
      "source": [
        "import sys\n",
        "sys.path.insert(0, ABSOLUTE_PATH)"
      ],
      "metadata": {
        "id": "Jsq6QozMIEao"
      },
      "execution_count": 17,
      "outputs": []
    },
    {
      "cell_type": "markdown",
      "source": [
        "# Training BERT Transformer"
      ],
      "metadata": {
        "id": "FcWk2pixkvHp"
      }
    },
    {
      "cell_type": "code",
      "source": [
        "!pip install transformers --upgrade"
      ],
      "metadata": {
        "colab": {
          "base_uri": "https://localhost:8080/"
        },
        "id": "tuGBu_yW8tAA",
        "outputId": "7f43f2ba-e0dc-47b6-d7a2-4345ba7cc06e"
      },
      "execution_count": 18,
      "outputs": [
        {
          "output_type": "stream",
          "name": "stdout",
          "text": [
            "Requirement already satisfied: transformers in /usr/local/lib/python3.11/dist-packages (4.51.3)\n",
            "Requirement already satisfied: filelock in /usr/local/lib/python3.11/dist-packages (from transformers) (3.18.0)\n",
            "Requirement already satisfied: huggingface-hub<1.0,>=0.30.0 in /usr/local/lib/python3.11/dist-packages (from transformers) (0.30.2)\n",
            "Requirement already satisfied: numpy>=1.17 in /usr/local/lib/python3.11/dist-packages (from transformers) (2.0.2)\n",
            "Requirement already satisfied: packaging>=20.0 in /usr/local/lib/python3.11/dist-packages (from transformers) (24.2)\n",
            "Requirement already satisfied: pyyaml>=5.1 in /usr/local/lib/python3.11/dist-packages (from transformers) (6.0.2)\n",
            "Requirement already satisfied: regex!=2019.12.17 in /usr/local/lib/python3.11/dist-packages (from transformers) (2024.11.6)\n",
            "Requirement already satisfied: requests in /usr/local/lib/python3.11/dist-packages (from transformers) (2.32.3)\n",
            "Requirement already satisfied: tokenizers<0.22,>=0.21 in /usr/local/lib/python3.11/dist-packages (from transformers) (0.21.1)\n",
            "Requirement already satisfied: safetensors>=0.4.3 in /usr/local/lib/python3.11/dist-packages (from transformers) (0.5.3)\n",
            "Requirement already satisfied: tqdm>=4.27 in /usr/local/lib/python3.11/dist-packages (from transformers) (4.67.1)\n",
            "Requirement already satisfied: fsspec>=2023.5.0 in /usr/local/lib/python3.11/dist-packages (from huggingface-hub<1.0,>=0.30.0->transformers) (2025.3.2)\n",
            "Requirement already satisfied: typing-extensions>=3.7.4.3 in /usr/local/lib/python3.11/dist-packages (from huggingface-hub<1.0,>=0.30.0->transformers) (4.13.2)\n",
            "Requirement already satisfied: charset-normalizer<4,>=2 in /usr/local/lib/python3.11/dist-packages (from requests->transformers) (3.4.1)\n",
            "Requirement already satisfied: idna<4,>=2.5 in /usr/local/lib/python3.11/dist-packages (from requests->transformers) (3.10)\n",
            "Requirement already satisfied: urllib3<3,>=1.21.1 in /usr/local/lib/python3.11/dist-packages (from requests->transformers) (2.4.0)\n",
            "Requirement already satisfied: certifi>=2017.4.17 in /usr/local/lib/python3.11/dist-packages (from requests->transformers) (2025.4.26)\n"
          ]
        }
      ]
    },
    {
      "cell_type": "code",
      "source": [
        "import os\n",
        "import random\n",
        "\n",
        "import pandas as pd\n",
        "import numpy as np\n",
        "import matplotlib.pyplot as plt\n",
        "import seaborn as sns\n",
        "\n",
        "import torch\n",
        "from torch.utils.data import DataLoader, Dataset\n",
        "from transformers import BertTokenizer, BertForSequenceClassification, get_linear_schedule_with_warmup\n",
        "from sklearn.metrics import accuracy_score, classification_report, confusion_matrix, f1_score\n",
        "from torch.optim import AdamW\n",
        "from tqdm import tqdm\n",
        "from utils import TweetDataset, train_model, export_model, evaluate_model\n",
        "\n",
        "\n",
        "# MODEL CONSTANTS\n",
        "MODEL_NAME = \"bert-base-cased\"\n",
        "NUM_LABELS = 2\n",
        "BATCH_SIZE = 32\n",
        "EPOCHS = 4"
      ],
      "metadata": {
        "id": "-NhQbGYbk4gq"
      },
      "execution_count": 31,
      "outputs": []
    },
    {
      "cell_type": "markdown",
      "source": [
        "## Loading (preprocessed) tweepfake dataset"
      ],
      "metadata": {
        "id": "QDHEtpIy5ocN"
      }
    },
    {
      "cell_type": "code",
      "source": [
        "# Import splits of the dataset (train, val, test)\n",
        "train_set_path, val_set_path, test_set_path = (\n",
        "    os.path.join(PREPROCESSED_DATA_DIR, \"tweepfake_train.csv\"),\n",
        "    os.path.join(PREPROCESSED_DATA_DIR, \"tweepfake_val.csv\"),\n",
        "    os.path.join(PREPROCESSED_DATA_DIR, \"tweepfake_test.csv\")\n",
        ")\n",
        "\n",
        "train_df, val_df, test_df = (\n",
        "    pd.read_csv(train_set_path),\n",
        "    pd.read_csv(val_set_path),\n",
        "    pd.read_csv(test_set_path)\n",
        ")\n",
        "\n",
        "# Concatenate split sets into a single DataFrame\n",
        "df = pd.concat([train_df, val_df, test_df], ignore_index=True)"
      ],
      "metadata": {
        "id": "17DxnKIJu2w2"
      },
      "execution_count": 20,
      "outputs": []
    },
    {
      "cell_type": "markdown",
      "source": [
        "## Prepare datasets for binary classification"
      ],
      "metadata": {
        "id": "eSzsdycvfjk8"
      }
    },
    {
      "cell_type": "code",
      "source": [
        "# Using text_tokens column for better preprocessing if available\n",
        "text_column = 'text_tokens' if 'text_tokens' in train_df.columns else 'text'\n",
        "\n",
        "X_train = train_df[text_column].values\n",
        "y_train = (train_df['account.type'] == 'bot').astype(int).values\n",
        "\n",
        "X_val = val_df[text_column].values\n",
        "y_val = (val_df['account.type'] == 'bot').astype(int).values\n",
        "\n",
        "X_test = test_df[text_column].values\n",
        "y_test = (test_df['account.type'] == 'bot').astype(int).values"
      ],
      "metadata": {
        "id": "nIOGavpIflrt"
      },
      "execution_count": 21,
      "outputs": []
    },
    {
      "cell_type": "markdown",
      "source": [
        "## Load BERT model and tokenizer"
      ],
      "metadata": {
        "id": "mcah0hQx6SWo"
      }
    },
    {
      "cell_type": "code",
      "source": [
        "tokenizer = BertTokenizer.from_pretrained(MODEL_NAME)\n",
        "model = BertForSequenceClassification.from_pretrained(\n",
        "    MODEL_NAME,\n",
        "    num_labels=NUM_LABELS,\n",
        "    output_attentions=False,\n",
        "    output_hidden_states=False\n",
        ")\n",
        "\n",
        "device = \"cuda:0\" if torch.cuda.is_available() else \"cpu\"\n",
        "model = model.to(device)"
      ],
      "metadata": {
        "colab": {
          "base_uri": "https://localhost:8080/"
        },
        "id": "k-MrMr416Syr",
        "outputId": "9cecb0dd-5674-439c-b312-cdf24e30c1ed"
      },
      "execution_count": 22,
      "outputs": [
        {
          "output_type": "stream",
          "name": "stderr",
          "text": [
            "/usr/local/lib/python3.11/dist-packages/huggingface_hub/utils/_auth.py:94: UserWarning: \n",
            "The secret `HF_TOKEN` does not exist in your Colab secrets.\n",
            "To authenticate with the Hugging Face Hub, create a token in your settings tab (https://huggingface.co/settings/tokens), set it as secret in your Google Colab and restart your session.\n",
            "You will be able to reuse this secret in all of your notebooks.\n",
            "Please note that authentication is recommended but still optional to access public models or datasets.\n",
            "  warnings.warn(\n",
            "Some weights of BertForSequenceClassification were not initialized from the model checkpoint at bert-base-cased and are newly initialized: ['classifier.bias', 'classifier.weight']\n",
            "You should probably TRAIN this model on a down-stream task to be able to use it for predictions and inference.\n"
          ]
        }
      ]
    },
    {
      "cell_type": "markdown",
      "source": [
        "### Create PyTorch datasets and dataloaders"
      ],
      "metadata": {
        "id": "AV8yiOQYf1XT"
      }
    },
    {
      "cell_type": "code",
      "source": [
        "train_dataset = TweetDataset(X_train, y_train, tokenizer)\n",
        "val_dataset = TweetDataset(X_val, y_val, tokenizer)\n",
        "test_dataset = TweetDataset(X_test, y_test, tokenizer)\n",
        "\n",
        "train_dataloader = DataLoader(train_dataset, batch_size=BATCH_SIZE, shuffle=True)\n",
        "val_dataloader = DataLoader(val_dataset, batch_size=BATCH_SIZE)\n",
        "test_dataloader = DataLoader(test_dataset, batch_size=BATCH_SIZE)"
      ],
      "metadata": {
        "id": "qW6SoXLUf5pa"
      },
      "execution_count": 23,
      "outputs": []
    },
    {
      "cell_type": "markdown",
      "source": [
        "## Training BERT"
      ],
      "metadata": {
        "id": "_s5F1YC_gMaZ"
      }
    },
    {
      "cell_type": "code",
      "source": [
        "optimizer = AdamW(model.parameters(), lr=2e-5, eps=1e-8)\n",
        "epochs = 4\n",
        "total_steps = len(train_dataloader) * epochs\n",
        "scheduler = get_linear_schedule_with_warmup(\n",
        "    optimizer,\n",
        "    num_warmup_steps=0,\n",
        "    num_training_steps=total_steps\n",
        ")"
      ],
      "metadata": {
        "id": "Q_L5yPTm6dxi"
      },
      "execution_count": 24,
      "outputs": []
    },
    {
      "cell_type": "markdown",
      "source": [
        "### Fine-tuning the model"
      ],
      "metadata": {
        "id": "n25K_GGV7f4Q"
      }
    },
    {
      "cell_type": "code",
      "source": [
        "finetuned_model, training_stats = train_model(\n",
        "    model, train_dataloader, val_dataloader, optimizer, scheduler, epochs, device)"
      ],
      "metadata": {
        "colab": {
          "base_uri": "https://localhost:8080/"
        },
        "id": "ZJ-WC-Hg7g7l",
        "outputId": "a43aa029-bd0a-43cb-ebf2-20b472b45435"
      },
      "execution_count": 25,
      "outputs": [
        {
          "output_type": "stream",
          "name": "stdout",
          "text": [
            "\n",
            "======== Epoch 1 / 4 ========\n",
            "Training...\n"
          ]
        },
        {
          "output_type": "stream",
          "name": "stderr",
          "text": [
            "Training: 100%|██████████| 648/648 [06:56<00:00,  1.56it/s, loss=0.5191]\n"
          ]
        },
        {
          "output_type": "stream",
          "name": "stdout",
          "text": [
            "Average training loss: 0.3714\n",
            "Running validation...\n"
          ]
        },
        {
          "output_type": "stream",
          "name": "stderr",
          "text": [
            "Validation: 100%|██████████| 72/72 [00:15<00:00,  4.56it/s]\n"
          ]
        },
        {
          "output_type": "stream",
          "name": "stdout",
          "text": [
            "Validation Loss: 0.3436\n",
            "Validation Accuracy: 0.8427\n",
            "Validation F1 Score: 0.8525\n",
            "New best model with validation accuracy: 0.8427\n",
            "\n",
            "======== Epoch 2 / 4 ========\n",
            "Training...\n"
          ]
        },
        {
          "output_type": "stream",
          "name": "stderr",
          "text": [
            "Training: 100%|██████████| 648/648 [07:01<00:00,  1.54it/s, loss=0.5056]\n"
          ]
        },
        {
          "output_type": "stream",
          "name": "stdout",
          "text": [
            "Average training loss: 0.2896\n",
            "Running validation...\n"
          ]
        },
        {
          "output_type": "stream",
          "name": "stderr",
          "text": [
            "Validation: 100%|██████████| 72/72 [00:15<00:00,  4.59it/s]\n"
          ]
        },
        {
          "output_type": "stream",
          "name": "stdout",
          "text": [
            "Validation Loss: 0.3363\n",
            "Validation Accuracy: 0.8475\n",
            "Validation F1 Score: 0.8513\n",
            "New best model with validation accuracy: 0.8475\n",
            "\n",
            "======== Epoch 3 / 4 ========\n",
            "Training...\n"
          ]
        },
        {
          "output_type": "stream",
          "name": "stderr",
          "text": [
            "Training: 100%|██████████| 648/648 [07:00<00:00,  1.54it/s, loss=0.1814]\n"
          ]
        },
        {
          "output_type": "stream",
          "name": "stdout",
          "text": [
            "Average training loss: 0.2053\n",
            "Running validation...\n"
          ]
        },
        {
          "output_type": "stream",
          "name": "stderr",
          "text": [
            "Validation: 100%|██████████| 72/72 [00:15<00:00,  4.56it/s]\n"
          ]
        },
        {
          "output_type": "stream",
          "name": "stdout",
          "text": [
            "Validation Loss: 0.3748\n",
            "Validation Accuracy: 0.8519\n",
            "Validation F1 Score: 0.8538\n",
            "New best model with validation accuracy: 0.8519\n",
            "\n",
            "======== Epoch 4 / 4 ========\n",
            "Training...\n"
          ]
        },
        {
          "output_type": "stream",
          "name": "stderr",
          "text": [
            "Training: 100%|██████████| 648/648 [07:00<00:00,  1.54it/s, loss=0.0118]\n"
          ]
        },
        {
          "output_type": "stream",
          "name": "stdout",
          "text": [
            "Average training loss: 0.1396\n",
            "Running validation...\n"
          ]
        },
        {
          "output_type": "stream",
          "name": "stderr",
          "text": [
            "Validation: 100%|██████████| 72/72 [00:15<00:00,  4.56it/s]"
          ]
        },
        {
          "output_type": "stream",
          "name": "stdout",
          "text": [
            "Validation Loss: 0.4670\n",
            "Validation Accuracy: 0.8458\n",
            "Validation F1 Score: 0.8463\n",
            "Loaded best model with validation accuracy: 0.8519\n"
          ]
        },
        {
          "output_type": "stream",
          "name": "stderr",
          "text": [
            "\n"
          ]
        }
      ]
    },
    {
      "cell_type": "markdown",
      "source": [
        "#### Plot training and validation loss"
      ],
      "metadata": {
        "id": "x-Q-4ixv7610"
      }
    },
    {
      "cell_type": "code",
      "source": [
        "stats_df = pd.DataFrame(training_stats)\n",
        "\n",
        "plt.figure(figsize=(12, 4))\n",
        "plt.subplot(1, 2, 1)\n",
        "plt.plot(stats_df['epoch'], stats_df['train_loss'], label='Training')\n",
        "plt.plot(stats_df['epoch'], stats_df['val_loss'], label='Validation')\n",
        "plt.xlabel('Epoch')\n",
        "plt.ylabel('Loss')\n",
        "plt.title('Training and Validation Loss')\n",
        "plt.legend()\n",
        "plt.grid(True)\n",
        "plt.tight_layout()\n",
        "plt.show()"
      ],
      "metadata": {
        "colab": {
          "base_uri": "https://localhost:8080/",
          "height": 407
        },
        "id": "8FHnLrCo73cv",
        "outputId": "c1802826-2818-4372-f28a-a0e5bce210ce"
      },
      "execution_count": 26,
      "outputs": [
        {
          "output_type": "display_data",
          "data": {
            "text/plain": [
              "<Figure size 1200x400 with 1 Axes>"
            ],
            "image/png": "[encoded data removed]"
          },
          "metadata": {}
        }
      ]
    },
    {
      "cell_type": "code",
      "source": [
        "plt.subplot(1, 2, 2)\n",
        "plt.plot(stats_df['epoch'], stats_df['val_accuracy'], label='Accuracy')\n",
        "plt.plot(stats_df['epoch'], stats_df['val_f1'], label='F1 Score')\n",
        "plt.xlabel('Epoch')\n",
        "plt.ylabel('Score')\n",
        "plt.title('Validation Metrics')\n",
        "plt.legend()\n",
        "plt.grid(True)\n",
        "plt.tight_layout()\n",
        "plt.show()"
      ],
      "metadata": {
        "colab": {
          "base_uri": "https://localhost:8080/",
          "height": 487
        },
        "id": "3hTOvNo_dKOS",
        "outputId": "1c997ab4-cbe7-4a3f-e787-4cbcce3acbe7"
      },
      "execution_count": 27,
      "outputs": [
        {
          "output_type": "display_data",
          "data": {
            "text/plain": [
              "<Figure size 640x480 with 1 Axes>"
            ],
            "image/png": "[encoded data removed]"
          },
          "metadata": {}
        }
      ]
    },
    {
      "cell_type": "markdown",
      "source": [
        "## Evaluation on the test set"
      ],
      "metadata": {
        "id": "ZtM_-yiG71RL"
      }
    },
    {
      "cell_type": "code",
      "source": [
        "eval_results = evaluate_model(finetuned_model, test_dataloader, device)"
      ],
      "metadata": {
        "id": "tWRjVBMC77cc",
        "colab": {
          "base_uri": "https://localhost:8080/"
        },
        "outputId": "ba39ced8-1f96-4806-bb1d-7f4b113843f6"
      },
      "execution_count": 33,
      "outputs": [
        {
          "output_type": "stream",
          "name": "stderr",
          "text": [
            "Evaluating: 100%|██████████| 80/80 [00:17<00:00,  4.57it/s]\n"
          ]
        }
      ]
    },
    {
      "cell_type": "code",
      "source": [
        "print(f\"Test Loss: {eval_results['loss']:.4f}\")\n",
        "print(f\"Test Accuracy: {eval_results['accuracy']:.4f}\")\n",
        "print(f\"Test F1 Score: {eval_results['f1']:.4f}\")\\\n",
        "\n",
        "print(\"\\nClassification Report:\")\n",
        "print(classification_report(\n",
        "        eval_results['true_labels'], eval_results['predictions'], target_names=['Human', 'Bot']))"
      ],
      "metadata": {
        "colab": {
          "base_uri": "https://localhost:8080/"
        },
        "id": "KOQ59m0w8Qrn",
        "outputId": "90af2c11-6342-423e-d307-21d8f53e4f86"
      },
      "execution_count": 34,
      "outputs": [
        {
          "output_type": "stream",
          "name": "stdout",
          "text": [
            "Test Loss: 0.4981\n",
            "Test Accuracy: 0.8405\n",
            "Test F1 Score: 0.8417\n",
            "\n",
            "Classification Report:\n",
            "              precision    recall  f1-score   support\n",
            "\n",
            "       Human       0.85      0.83      0.84      1278\n",
            "         Bot       0.84      0.85      0.84      1280\n",
            "\n",
            "    accuracy                           0.84      2558\n",
            "   macro avg       0.84      0.84      0.84      2558\n",
            "weighted avg       0.84      0.84      0.84      2558\n",
            "\n"
          ]
        }
      ]
    },
    {
      "cell_type": "code",
      "source": [
        "cm = confusion_matrix(eval_results['true_labels'], eval_results['predictions'])\n",
        "plt.figure(figsize=(8, 6))\n",
        "sns.heatmap(cm, annot=True, fmt='d', cmap='Blues', xticklabels=['Human', 'Bot'], yticklabels=['Human', 'Bot'])\n",
        "plt.xlabel('Predicted')\n",
        "plt.ylabel('True')\n",
        "plt.title('Confusion Matrix - Fine-tuned BERT')\n",
        "plt.show()"
      ],
      "metadata": {
        "colab": {
          "base_uri": "https://localhost:8080/",
          "height": 564
        },
        "id": "7B1euSRs8TXd",
        "outputId": "eb284e33-9031-44a4-bbc3-1be2c5fb0df4"
      },
      "execution_count": 35,
      "outputs": [
        {
          "output_type": "display_data",
          "data": {
            "text/plain": [
              "<Figure size 800x600 with 2 Axes>"
            ],
            "image/png": "[encoded data removed]"
          },
          "metadata": {}
        }
      ]
    },
    {
      "cell_type": "markdown",
      "source": [
        "## Export fine-tuned BERT model"
      ],
      "metadata": {
        "id": "JuZfk01uEnPh"
      }
    },
    {
      "cell_type": "code",
      "source": [
        "export_model(finetuned_model, tokenizer, MODEL_EXPORT_DIR)"
      ],
      "metadata": {
        "id": "zgkUChVaEp4y"
      },
      "execution_count": 36,
      "outputs": []
    }
  ]
}