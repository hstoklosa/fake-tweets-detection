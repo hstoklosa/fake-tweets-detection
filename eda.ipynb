{
  "cells": [
    {
      "cell_type": "code",
      "execution_count": 2,
      "metadata": {
        "colab": {
          "base_uri": "https://localhost:8080/"
        },
        "id": "50gzj4arSzQ_",
        "outputId": "11c6138e-4be7-4cd9-cf8d-6d118620dbad"
      },
      "outputs": [
        {
          "name": "stdout",
          "output_type": "stream",
          "text": [
            "Mounted at /content/drive\n"
          ]
        }
      ],
      "source": [
        "from google.colab import drive\n",
        "drive.mount('/content/drive', force_remount=True)"
      ]
    },
    {
      "cell_type": "markdown",
      "metadata": {
        "id": "UEtm_VpTYlkS"
      },
      "source": [
        "# Exploratory Data Analysis (Tweepfake)"
      ]
    },
    {
      "cell_type": "code",
      "execution_count": 3,
      "metadata": {
        "colab": {
          "base_uri": "https://localhost:8080/"
        },
        "id": "HzIEtBYcZu21",
        "outputId": "8acafb37-d3e5-489d-c31c-c2c482c19d3b"
      },
      "outputs": [
        {
          "name": "stderr",
          "output_type": "stream",
          "text": [
            "[nltk_data] Downloading package stopwords to /root/nltk_data...\n",
            "[nltk_data]   Unzipping corpora/stopwords.zip.\n"
          ]
        }
      ],
      "source": [
        "import os\n",
        "\n",
        "import pandas as pd\n",
        "import numpy as np\n",
        "import matplotlib.pyplot as plt\n",
        "import seaborn as sns\n",
        "\n",
        "import nltk\n",
        "nltk.download('stopwords')\n",
        "from nltk.corpus import stopwords\n",
        "\n",
        "ABSOLUTE_PATH=\"/content/drive/My Drive/deepfake_tweets\""
      ]
    },
    {
      "cell_type": "code",
      "execution_count": 4,
      "metadata": {
        "id": "FRSIqxpOdplv"
      },
      "outputs": [],
      "source": [
        "train_set_path, val_set_path, test_set_path = (\n",
        "    os.path.join(ABSOLUTE_PATH, \"data/tweepfake_train.csv\"),\n",
        "    os.path.join(ABSOLUTE_PATH, \"data/tweepfake_val.csv\"),\n",
        "    os.path.join(ABSOLUTE_PATH, \"data/tweepfake_test.csv\")\n",
        ")\n",
        "\n",
        "# Import split dataset\n",
        "train_df, val_df, test_df = (\n",
        "    pd.read_csv(train_set_path, sep=\";\"),\n",
        "    pd.read_csv(val_set_path, sep=\";\"),\n",
        "    pd.read_csv(test_set_path, sep=\";\")\n",
        ")\n",
        "\n",
        "# Concatenate split sets into a single DataFrame\n",
        "df = pd.concat([train_df, val_df, test_df], ignore_index=True)"
      ]
    },
    {
      "cell_type": "code",
      "execution_count": 5,
      "metadata": {
        "colab": {
          "base_uri": "https://localhost:8080/"
        },
        "id": "HhRiLQlzmcQ-",
        "outputId": "42b3d510-4068-498c-e1a9-e159d357ca09"
      },
      "outputs": [
        {
          "data": {
            "text/plain": [
              "(      screen_name                                               text  \\\n",
              " 0      imranyebot                             YEA now that note GOOD   \n",
              " 1          zawvrk  Listen to This Charming Man by The Smiths  htt...   \n",
              " 2        zawarbot  wish i can i would be seeing other hoes on the...   \n",
              " 3  ahadsheriffbot  The decade in the significantly easier schedul...   \n",
              " 4   kevinhookebot  \"Theim class=\\\"alignnone size-full wp-image-60...   \n",
              " \n",
              "   account.type class_type  \n",
              " 0          bot     others  \n",
              " 1        human      human  \n",
              " 2          bot     others  \n",
              " 3          bot     others  \n",
              " 4          bot        rnn  ,\n",
              "      screen_name                                               text  \\\n",
              " 0    ahadsheriff  TIGHT, TIGHT, TIGHT, YEAH!!! https://t.co/wj3n...   \n",
              " 1   narendramodi  India has millennia old relations with Oman. W...   \n",
              " 2          jaden                                  Anxious Teenagers   \n",
              " 3  JustinTrudeau  Our top priority is keeping Canadians safe. Wi...   \n",
              " 4     imranyebot  nah bro You’re taking sis so much I’m just a g...   \n",
              " \n",
              "   account.type class_type  \n",
              " 0        human      human  \n",
              " 1        human      human  \n",
              " 2        human      human  \n",
              " 3        human      human  \n",
              " 4          bot     others  ,\n",
              "       screen_name                                               text  \\\n",
              " 0          zawvrk  justin timberlake really one of the goats if y...   \n",
              " 1    narendramodi  Thank you @PMBhutan for your gracious prayers ...   \n",
              " 2     ahadsheriff  Theory: the number of red lights you will hit ...   \n",
              " 3  AINarendraModi  Respects on the Upt of the I good with the peo...   \n",
              " 4      kevinhooke  Might give the BASIC #10Liner game contest ano...   \n",
              " \n",
              "   account.type class_type  \n",
              " 0        human      human  \n",
              " 1        human      human  \n",
              " 2        human      human  \n",
              " 3          bot        rnn  \n",
              " 4        human      human  )"
            ]
          },
          "execution_count": 5,
          "metadata": {},
          "output_type": "execute_result"
        }
      ],
      "source": [
        "train_df.head(), val_df.head(), test_df.head()"
      ]
    }
  ],
  "metadata": {
    "colab": {
      "provenance": []
    },
    "kernelspec": {
      "display_name": "Python 3",
      "name": "python3"
    },
    "language_info": {
      "name": "python"
    }
  },
  "nbformat": 4,
  "nbformat_minor": 0
}
